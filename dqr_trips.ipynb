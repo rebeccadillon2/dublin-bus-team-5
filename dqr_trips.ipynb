{
 "cells": [
  {
   "cell_type": "code",
   "execution_count": 2,
   "metadata": {},
   "outputs": [],
   "source": [
    "import pandas as pd\n",
    "import numpy as np\n",
    "import matplotlib.pyplot as plt\n",
    "import matplotlib.patches as mpatches\n",
    "from matplotlib.backends.backend_pdf import PdfPages"
   ]
  },
  {
   "cell_type": "code",
   "execution_count": 3,
   "metadata": {},
   "outputs": [],
   "source": [
    "filename = 'data/raw_data/rt_trips_DB_2018.txt'\n",
    "df = pd.read_csv(filename, parse_dates=['DAYOFSERVICE', 'LASTUPDATE'], sep=';')"
   ]
  },
  {
   "cell_type": "code",
   "execution_count": 4,
   "metadata": {},
   "outputs": [
    {
     "data": {
      "text/html": [
       "<div>\n",
       "<style scoped>\n",
       "    .dataframe tbody tr th:only-of-type {\n",
       "        vertical-align: middle;\n",
       "    }\n",
       "\n",
       "    .dataframe tbody tr th {\n",
       "        vertical-align: top;\n",
       "    }\n",
       "\n",
       "    .dataframe thead th {\n",
       "        text-align: right;\n",
       "    }\n",
       "</style>\n",
       "<table border=\"1\" class=\"dataframe\">\n",
       "  <thead>\n",
       "    <tr style=\"text-align: right;\">\n",
       "      <th></th>\n",
       "      <th>DATASOURCE</th>\n",
       "      <th>DAYOFSERVICE</th>\n",
       "      <th>TRIPID</th>\n",
       "      <th>LINEID</th>\n",
       "      <th>ROUTEID</th>\n",
       "      <th>DIRECTION</th>\n",
       "      <th>PLANNEDTIME_ARR</th>\n",
       "      <th>PLANNEDTIME_DEP</th>\n",
       "      <th>ACTUALTIME_ARR</th>\n",
       "      <th>ACTUALTIME_DEP</th>\n",
       "      <th>BASIN</th>\n",
       "      <th>TENDERLOT</th>\n",
       "      <th>SUPPRESSED</th>\n",
       "      <th>JUSTIFICATIONID</th>\n",
       "      <th>LASTUPDATE</th>\n",
       "      <th>NOTE</th>\n",
       "    </tr>\n",
       "  </thead>\n",
       "  <tbody>\n",
       "    <tr>\n",
       "      <th>0</th>\n",
       "      <td>DB</td>\n",
       "      <td>2018-02-07</td>\n",
       "      <td>6253783</td>\n",
       "      <td>68</td>\n",
       "      <td>68_80</td>\n",
       "      <td>1</td>\n",
       "      <td>87245</td>\n",
       "      <td>84600</td>\n",
       "      <td>87524.0</td>\n",
       "      <td>84600.0</td>\n",
       "      <td>BasDef</td>\n",
       "      <td>NaN</td>\n",
       "      <td>NaN</td>\n",
       "      <td>NaN</td>\n",
       "      <td>2018-02-28 12:05:11</td>\n",
       "      <td>,2967409,</td>\n",
       "    </tr>\n",
       "    <tr>\n",
       "      <th>1</th>\n",
       "      <td>DB</td>\n",
       "      <td>2018-02-07</td>\n",
       "      <td>6262138</td>\n",
       "      <td>25B</td>\n",
       "      <td>25B_271</td>\n",
       "      <td>2</td>\n",
       "      <td>30517</td>\n",
       "      <td>26460</td>\n",
       "      <td>32752.0</td>\n",
       "      <td>NaN</td>\n",
       "      <td>BasDef</td>\n",
       "      <td>NaN</td>\n",
       "      <td>NaN</td>\n",
       "      <td>NaN</td>\n",
       "      <td>2018-02-28 12:05:11</td>\n",
       "      <td>,2580260,</td>\n",
       "    </tr>\n",
       "    <tr>\n",
       "      <th>2</th>\n",
       "      <td>DB</td>\n",
       "      <td>2018-02-07</td>\n",
       "      <td>6254942</td>\n",
       "      <td>45A</td>\n",
       "      <td>45A_70</td>\n",
       "      <td>2</td>\n",
       "      <td>35512</td>\n",
       "      <td>32100</td>\n",
       "      <td>36329.0</td>\n",
       "      <td>32082.0</td>\n",
       "      <td>BasDef</td>\n",
       "      <td>NaN</td>\n",
       "      <td>NaN</td>\n",
       "      <td>NaN</td>\n",
       "      <td>2018-02-28 12:05:11</td>\n",
       "      <td>,2448968,</td>\n",
       "    </tr>\n",
       "    <tr>\n",
       "      <th>3</th>\n",
       "      <td>DB</td>\n",
       "      <td>2018-02-07</td>\n",
       "      <td>6259460</td>\n",
       "      <td>25A</td>\n",
       "      <td>25A_273</td>\n",
       "      <td>1</td>\n",
       "      <td>57261</td>\n",
       "      <td>54420</td>\n",
       "      <td>58463.0</td>\n",
       "      <td>54443.0</td>\n",
       "      <td>BasDef</td>\n",
       "      <td>NaN</td>\n",
       "      <td>NaN</td>\n",
       "      <td>NaN</td>\n",
       "      <td>2018-02-28 12:05:11</td>\n",
       "      <td>,3094242,</td>\n",
       "    </tr>\n",
       "    <tr>\n",
       "      <th>4</th>\n",
       "      <td>DB</td>\n",
       "      <td>2018-02-07</td>\n",
       "      <td>6253175</td>\n",
       "      <td>14</td>\n",
       "      <td>14_15</td>\n",
       "      <td>1</td>\n",
       "      <td>85383</td>\n",
       "      <td>81600</td>\n",
       "      <td>84682.0</td>\n",
       "      <td>81608.0</td>\n",
       "      <td>BasDef</td>\n",
       "      <td>NaN</td>\n",
       "      <td>NaN</td>\n",
       "      <td>NaN</td>\n",
       "      <td>2018-02-28 12:05:11</td>\n",
       "      <td>,2526331,</td>\n",
       "    </tr>\n",
       "  </tbody>\n",
       "</table>\n",
       "</div>"
      ],
      "text/plain": [
       "  DATASOURCE DAYOFSERVICE   TRIPID LINEID  ROUTEID  DIRECTION  \\\n",
       "0         DB   2018-02-07  6253783     68    68_80          1   \n",
       "1         DB   2018-02-07  6262138    25B  25B_271          2   \n",
       "2         DB   2018-02-07  6254942    45A   45A_70          2   \n",
       "3         DB   2018-02-07  6259460    25A  25A_273          1   \n",
       "4         DB   2018-02-07  6253175     14    14_15          1   \n",
       "\n",
       "   PLANNEDTIME_ARR  PLANNEDTIME_DEP  ACTUALTIME_ARR  ACTUALTIME_DEP   BASIN  \\\n",
       "0            87245            84600         87524.0         84600.0  BasDef   \n",
       "1            30517            26460         32752.0             NaN  BasDef   \n",
       "2            35512            32100         36329.0         32082.0  BasDef   \n",
       "3            57261            54420         58463.0         54443.0  BasDef   \n",
       "4            85383            81600         84682.0         81608.0  BasDef   \n",
       "\n",
       "   TENDERLOT  SUPPRESSED  JUSTIFICATIONID          LASTUPDATE       NOTE  \n",
       "0        NaN         NaN              NaN 2018-02-28 12:05:11  ,2967409,  \n",
       "1        NaN         NaN              NaN 2018-02-28 12:05:11  ,2580260,  \n",
       "2        NaN         NaN              NaN 2018-02-28 12:05:11  ,2448968,  \n",
       "3        NaN         NaN              NaN 2018-02-28 12:05:11  ,3094242,  \n",
       "4        NaN         NaN              NaN 2018-02-28 12:05:11  ,2526331,  "
      ]
     },
     "execution_count": 4,
     "metadata": {},
     "output_type": "execute_result"
    }
   ],
   "source": [
    "df.head()"
   ]
  },
  {
   "cell_type": "code",
   "execution_count": 5,
   "metadata": {},
   "outputs": [
    {
     "data": {
      "text/plain": [
       "DATASOURCE                 object\n",
       "DAYOFSERVICE       datetime64[ns]\n",
       "TRIPID                      int64\n",
       "LINEID                     object\n",
       "ROUTEID                    object\n",
       "DIRECTION                   int64\n",
       "PLANNEDTIME_ARR             int64\n",
       "PLANNEDTIME_DEP             int64\n",
       "ACTUALTIME_ARR            float64\n",
       "ACTUALTIME_DEP            float64\n",
       "BASIN                      object\n",
       "TENDERLOT                 float64\n",
       "SUPPRESSED                float64\n",
       "JUSTIFICATIONID           float64\n",
       "LASTUPDATE         datetime64[ns]\n",
       "NOTE                       object\n",
       "dtype: object"
      ]
     },
     "execution_count": 5,
     "metadata": {},
     "output_type": "execute_result"
    }
   ],
   "source": [
    "# check the data types\n",
    "df.dtypes"
   ]
  },
  {
   "cell_type": "code",
   "execution_count": 6,
   "metadata": {},
   "outputs": [
    {
     "data": {
      "text/html": [
       "<div>\n",
       "<style scoped>\n",
       "    .dataframe tbody tr th:only-of-type {\n",
       "        vertical-align: middle;\n",
       "    }\n",
       "\n",
       "    .dataframe tbody tr th {\n",
       "        vertical-align: top;\n",
       "    }\n",
       "\n",
       "    .dataframe thead th {\n",
       "        text-align: right;\n",
       "    }\n",
       "</style>\n",
       "<table border=\"1\" class=\"dataframe\">\n",
       "  <thead>\n",
       "    <tr style=\"text-align: right;\">\n",
       "      <th></th>\n",
       "      <th>count</th>\n",
       "      <th>mean</th>\n",
       "      <th>min</th>\n",
       "      <th>25%</th>\n",
       "      <th>50%</th>\n",
       "      <th>75%</th>\n",
       "      <th>max</th>\n",
       "      <th>std</th>\n",
       "    </tr>\n",
       "  </thead>\n",
       "  <tbody>\n",
       "    <tr>\n",
       "      <th>DAYOFSERVICE</th>\n",
       "      <td>2182637</td>\n",
       "      <td>2018-06-28 17:25:38.969786880</td>\n",
       "      <td>2018-01-01 00:00:00</td>\n",
       "      <td>2018-03-31 00:00:00</td>\n",
       "      <td>2018-06-28 00:00:00</td>\n",
       "      <td>2018-09-26 00:00:00</td>\n",
       "      <td>2018-12-31 00:00:00</td>\n",
       "      <td>NaN</td>\n",
       "    </tr>\n",
       "    <tr>\n",
       "      <th>TRIPID</th>\n",
       "      <td>2182637.0</td>\n",
       "      <td>7149479.174758</td>\n",
       "      <td>5955221.0</td>\n",
       "      <td>6592584.0</td>\n",
       "      <td>7110090.0</td>\n",
       "      <td>8018241.0</td>\n",
       "      <td>8592207.0</td>\n",
       "      <td>731442.265466</td>\n",
       "    </tr>\n",
       "    <tr>\n",
       "      <th>DIRECTION</th>\n",
       "      <td>2182637.0</td>\n",
       "      <td>1.504103</td>\n",
       "      <td>1.0</td>\n",
       "      <td>1.0</td>\n",
       "      <td>2.0</td>\n",
       "      <td>2.0</td>\n",
       "      <td>2.0</td>\n",
       "      <td>0.499983</td>\n",
       "    </tr>\n",
       "    <tr>\n",
       "      <th>PLANNEDTIME_ARR</th>\n",
       "      <td>2182637.0</td>\n",
       "      <td>55078.747653</td>\n",
       "      <td>18203.0</td>\n",
       "      <td>39683.0</td>\n",
       "      <td>55276.0</td>\n",
       "      <td>69006.0</td>\n",
       "      <td>91680.0</td>\n",
       "      <td>17424.822304</td>\n",
       "    </tr>\n",
       "    <tr>\n",
       "      <th>PLANNEDTIME_DEP</th>\n",
       "      <td>2182637.0</td>\n",
       "      <td>51533.29282</td>\n",
       "      <td>16200.0</td>\n",
       "      <td>36000.0</td>\n",
       "      <td>51600.0</td>\n",
       "      <td>65160.0</td>\n",
       "      <td>87600.0</td>\n",
       "      <td>17571.637274</td>\n",
       "    </tr>\n",
       "    <tr>\n",
       "      <th>ACTUALTIME_ARR</th>\n",
       "      <td>2045430.0</td>\n",
       "      <td>55062.38828</td>\n",
       "      <td>17546.0</td>\n",
       "      <td>39668.0</td>\n",
       "      <td>55189.0</td>\n",
       "      <td>69019.0</td>\n",
       "      <td>94378.0</td>\n",
       "      <td>17338.699154</td>\n",
       "    </tr>\n",
       "    <tr>\n",
       "      <th>ACTUALTIME_DEP</th>\n",
       "      <td>2018086.0</td>\n",
       "      <td>51706.116583</td>\n",
       "      <td>15974.0</td>\n",
       "      <td>36518.0</td>\n",
       "      <td>51618.0</td>\n",
       "      <td>65398.0</td>\n",
       "      <td>97177.0</td>\n",
       "      <td>17526.948184</td>\n",
       "    </tr>\n",
       "    <tr>\n",
       "      <th>TENDERLOT</th>\n",
       "      <td>0.0</td>\n",
       "      <td>NaN</td>\n",
       "      <td>NaN</td>\n",
       "      <td>NaN</td>\n",
       "      <td>NaN</td>\n",
       "      <td>NaN</td>\n",
       "      <td>NaN</td>\n",
       "      <td>NaN</td>\n",
       "    </tr>\n",
       "    <tr>\n",
       "      <th>SUPPRESSED</th>\n",
       "      <td>4333.0</td>\n",
       "      <td>0.0</td>\n",
       "      <td>0.0</td>\n",
       "      <td>0.0</td>\n",
       "      <td>0.0</td>\n",
       "      <td>0.0</td>\n",
       "      <td>0.0</td>\n",
       "      <td>0.0</td>\n",
       "    </tr>\n",
       "    <tr>\n",
       "      <th>JUSTIFICATIONID</th>\n",
       "      <td>4330.0</td>\n",
       "      <td>237554.867667</td>\n",
       "      <td>177856.0</td>\n",
       "      <td>205506.5</td>\n",
       "      <td>233851.5</td>\n",
       "      <td>271506.75</td>\n",
       "      <td>297899.0</td>\n",
       "      <td>34585.051789</td>\n",
       "    </tr>\n",
       "    <tr>\n",
       "      <th>LASTUPDATE</th>\n",
       "      <td>2182637</td>\n",
       "      <td>2018-07-16 10:25:44.996667392</td>\n",
       "      <td>2018-01-08 17:21:10</td>\n",
       "      <td>2018-04-10 15:08:12</td>\n",
       "      <td>2018-07-13 19:47:00</td>\n",
       "      <td>2018-10-23 06:57:21</td>\n",
       "      <td>2019-01-16 18:27:21</td>\n",
       "      <td>NaN</td>\n",
       "    </tr>\n",
       "  </tbody>\n",
       "</table>\n",
       "</div>"
      ],
      "text/plain": [
       "                     count                           mean  \\\n",
       "DAYOFSERVICE       2182637  2018-06-28 17:25:38.969786880   \n",
       "TRIPID           2182637.0                 7149479.174758   \n",
       "DIRECTION        2182637.0                       1.504103   \n",
       "PLANNEDTIME_ARR  2182637.0                   55078.747653   \n",
       "PLANNEDTIME_DEP  2182637.0                    51533.29282   \n",
       "ACTUALTIME_ARR   2045430.0                    55062.38828   \n",
       "ACTUALTIME_DEP   2018086.0                   51706.116583   \n",
       "TENDERLOT              0.0                            NaN   \n",
       "SUPPRESSED          4333.0                            0.0   \n",
       "JUSTIFICATIONID     4330.0                  237554.867667   \n",
       "LASTUPDATE         2182637  2018-07-16 10:25:44.996667392   \n",
       "\n",
       "                                 min                  25%  \\\n",
       "DAYOFSERVICE     2018-01-01 00:00:00  2018-03-31 00:00:00   \n",
       "TRIPID                     5955221.0            6592584.0   \n",
       "DIRECTION                        1.0                  1.0   \n",
       "PLANNEDTIME_ARR              18203.0              39683.0   \n",
       "PLANNEDTIME_DEP              16200.0              36000.0   \n",
       "ACTUALTIME_ARR               17546.0              39668.0   \n",
       "ACTUALTIME_DEP               15974.0              36518.0   \n",
       "TENDERLOT                        NaN                  NaN   \n",
       "SUPPRESSED                       0.0                  0.0   \n",
       "JUSTIFICATIONID             177856.0             205506.5   \n",
       "LASTUPDATE       2018-01-08 17:21:10  2018-04-10 15:08:12   \n",
       "\n",
       "                                 50%                  75%  \\\n",
       "DAYOFSERVICE     2018-06-28 00:00:00  2018-09-26 00:00:00   \n",
       "TRIPID                     7110090.0            8018241.0   \n",
       "DIRECTION                        2.0                  2.0   \n",
       "PLANNEDTIME_ARR              55276.0              69006.0   \n",
       "PLANNEDTIME_DEP              51600.0              65160.0   \n",
       "ACTUALTIME_ARR               55189.0              69019.0   \n",
       "ACTUALTIME_DEP               51618.0              65398.0   \n",
       "TENDERLOT                        NaN                  NaN   \n",
       "SUPPRESSED                       0.0                  0.0   \n",
       "JUSTIFICATIONID             233851.5            271506.75   \n",
       "LASTUPDATE       2018-07-13 19:47:00  2018-10-23 06:57:21   \n",
       "\n",
       "                                 max            std  \n",
       "DAYOFSERVICE     2018-12-31 00:00:00            NaN  \n",
       "TRIPID                     8592207.0  731442.265466  \n",
       "DIRECTION                        2.0       0.499983  \n",
       "PLANNEDTIME_ARR              91680.0   17424.822304  \n",
       "PLANNEDTIME_DEP              87600.0   17571.637274  \n",
       "ACTUALTIME_ARR               94378.0   17338.699154  \n",
       "ACTUALTIME_DEP               97177.0   17526.948184  \n",
       "TENDERLOT                        NaN            NaN  \n",
       "SUPPRESSED                       0.0            0.0  \n",
       "JUSTIFICATIONID             297899.0   34585.051789  \n",
       "LASTUPDATE       2019-01-16 18:27:21            NaN  "
      ]
     },
     "execution_count": 6,
     "metadata": {},
     "output_type": "execute_result"
    }
   ],
   "source": [
    "# print some descriptors of the data\n",
    "df.describe(datetime_is_numeric=True).T "
   ]
  },
  {
   "cell_type": "markdown",
   "metadata": {},
   "source": [
    "We can see that the columns for 'PLANNEDTIME' and 'ACTUALTIME' departure and arrival are in seconds from midnight. The TENDERLOT column appears to hold no values, and so will be dropped from the dataset in the data quality plan.\n",
    "We can also see that the SUPPRESSED and JUSTIFICATIONID columns appear to only have 4,330 rows of data, far less than the other columns' counts. The relevance of these columns will have to be examined further.\n",
    "\n",
    "This also shows that there are no negative values in the planned/actual time columns which shows that the logical integrity of the data is good so far."
   ]
  },
  {
   "cell_type": "code",
   "execution_count": 7,
   "metadata": {},
   "outputs": [
    {
     "data": {
      "text/plain": [
       "DATASOURCE               0\n",
       "DAYOFSERVICE             0\n",
       "TRIPID                   0\n",
       "LINEID                   0\n",
       "ROUTEID                  0\n",
       "DIRECTION                0\n",
       "PLANNEDTIME_ARR          0\n",
       "PLANNEDTIME_DEP          0\n",
       "ACTUALTIME_ARR      137207\n",
       "ACTUALTIME_DEP      164551\n",
       "BASIN                    0\n",
       "TENDERLOT          2182637\n",
       "SUPPRESSED         2178304\n",
       "JUSTIFICATIONID    2178307\n",
       "LASTUPDATE               0\n",
       "NOTE                     0\n",
       "dtype: int64"
      ]
     },
     "execution_count": 7,
     "metadata": {},
     "output_type": "execute_result"
    }
   ],
   "source": [
    "df.isnull().sum()"
   ]
  },
  {
   "cell_type": "markdown",
   "metadata": {},
   "source": [
    "As previously described, there is a large portion of rows containing null values for some columns. The ACTUALTIME columns also appear to be missing some data which will likely require dropping these rows from the dataset later on."
   ]
  },
  {
   "cell_type": "code",
   "execution_count": 8,
   "metadata": {},
   "outputs": [
    {
     "data": {
      "text/plain": [
       "DATASOURCE              1\n",
       "DAYOFSERVICE          360\n",
       "TRIPID             658964\n",
       "LINEID                130\n",
       "ROUTEID               588\n",
       "DIRECTION               2\n",
       "PLANNEDTIME_ARR     64461\n",
       "PLANNEDTIME_DEP       791\n",
       "ACTUALTIME_ARR      68122\n",
       "ACTUALTIME_DEP      66771\n",
       "BASIN                   1\n",
       "TENDERLOT               0\n",
       "SUPPRESSED              1\n",
       "JUSTIFICATIONID      3526\n",
       "LASTUPDATE            360\n",
       "NOTE                46690\n",
       "dtype: int64"
      ]
     },
     "execution_count": 8,
     "metadata": {},
     "output_type": "execute_result"
    }
   ],
   "source": [
    "df.nunique()"
   ]
  },
  {
   "cell_type": "markdown",
   "metadata": {},
   "source": [
    "The above result shows the cardinality of the features in the dataset. We can see that some columns only hold one unqiue value. The value these columns add to the dataset will have to be examined further."
   ]
  },
  {
   "cell_type": "markdown",
   "metadata": {},
   "source": [
    "#### Changing dtypes"
   ]
  },
  {
   "cell_type": "code",
   "execution_count": 9,
   "metadata": {},
   "outputs": [
    {
     "data": {
      "text/plain": [
       "Index(['DATASOURCE', 'LINEID', 'ROUTEID', 'BASIN', 'NOTE'], dtype='object')"
      ]
     },
     "execution_count": 9,
     "metadata": {},
     "output_type": "execute_result"
    }
   ],
   "source": [
    "# select all columns with object datatype\n",
    "categorical_cols = df.select_dtypes(['object']).columns\n",
    "categorical_cols"
   ]
  },
  {
   "cell_type": "code",
   "execution_count": 10,
   "metadata": {},
   "outputs": [
    {
     "data": {
      "text/plain": [
       "Index(['DATASOURCE', 'LINEID', 'ROUTEID', 'BASIN', 'NOTE', 'TRIPID',\n",
       "       'DIRECTION', 'TENDERLOT', 'SUPPRESSED', 'JUSTIFICATIONID'],\n",
       "      dtype='object')"
      ]
     },
     "execution_count": 10,
     "metadata": {},
     "output_type": "execute_result"
    }
   ],
   "source": [
    "# select columns with categorical data and add to list\n",
    "categorical_cols = categorical_cols.append(df[['TRIPID', 'DIRECTION', 'TENDERLOT', 'SUPPRESSED', 'JUSTIFICATIONID']].columns)\n",
    "categorical_cols"
   ]
  },
  {
   "cell_type": "code",
   "execution_count": 11,
   "metadata": {},
   "outputs": [
    {
     "data": {
      "text/plain": [
       "DATASOURCE               category\n",
       "DAYOFSERVICE       datetime64[ns]\n",
       "TRIPID                   category\n",
       "LINEID                   category\n",
       "ROUTEID                  category\n",
       "DIRECTION                category\n",
       "PLANNEDTIME_ARR             int64\n",
       "PLANNEDTIME_DEP             int64\n",
       "ACTUALTIME_ARR            float64\n",
       "ACTUALTIME_DEP            float64\n",
       "BASIN                    category\n",
       "TENDERLOT                category\n",
       "SUPPRESSED               category\n",
       "JUSTIFICATIONID          category\n",
       "LASTUPDATE         datetime64[ns]\n",
       "NOTE                     category\n",
       "dtype: object"
      ]
     },
     "execution_count": 11,
     "metadata": {},
     "output_type": "execute_result"
    }
   ],
   "source": [
    "# convert columns in the list to categorical columns\n",
    "for col in categorical_cols:\n",
    "    df[col] = df[col].astype('category')\n",
    "df.dtypes"
   ]
  },
  {
   "cell_type": "code",
   "execution_count": 12,
   "metadata": {},
   "outputs": [
    {
     "data": {
      "text/plain": [
       "False    2182637\n",
       "dtype: int64"
      ]
     },
     "execution_count": 12,
     "metadata": {},
     "output_type": "execute_result"
    }
   ],
   "source": [
    "# check for duplicate rows\n",
    "df.duplicated().value_counts()"
   ]
  },
  {
   "cell_type": "markdown",
   "metadata": {},
   "source": [
    "There are no duplicate rows in the dataframe."
   ]
  },
  {
   "cell_type": "code",
   "execution_count": 13,
   "metadata": {},
   "outputs": [
    {
     "data": {
      "text/plain": [
       "True    2182637\n",
       "Name: DAYOFSERVICE, dtype: int64"
      ]
     },
     "execution_count": 13,
     "metadata": {},
     "output_type": "execute_result"
    }
   ],
   "source": [
    "# check the rows are within the required dates \n",
    "test_timeframe = df['DAYOFSERVICE'].dt.year == 2018\n",
    "test_timeframe.value_counts()"
   ]
  },
  {
   "cell_type": "markdown",
   "metadata": {},
   "source": [
    "All rows are within the required timeframe."
   ]
  },
  {
   "cell_type": "markdown",
   "metadata": {},
   "source": [
    "### Descriptive statistics\n",
    "#### Continuous features"
   ]
  },
  {
   "cell_type": "code",
   "execution_count": 14,
   "metadata": {},
   "outputs": [
    {
     "data": {
      "text/html": [
       "<div>\n",
       "<style scoped>\n",
       "    .dataframe tbody tr th:only-of-type {\n",
       "        vertical-align: middle;\n",
       "    }\n",
       "\n",
       "    .dataframe tbody tr th {\n",
       "        vertical-align: top;\n",
       "    }\n",
       "\n",
       "    .dataframe thead th {\n",
       "        text-align: right;\n",
       "    }\n",
       "</style>\n",
       "<table border=\"1\" class=\"dataframe\">\n",
       "  <thead>\n",
       "    <tr style=\"text-align: right;\">\n",
       "      <th></th>\n",
       "      <th>count</th>\n",
       "      <th>mean</th>\n",
       "      <th>min</th>\n",
       "      <th>25%</th>\n",
       "      <th>50%</th>\n",
       "      <th>75%</th>\n",
       "      <th>max</th>\n",
       "      <th>std</th>\n",
       "    </tr>\n",
       "  </thead>\n",
       "  <tbody>\n",
       "    <tr>\n",
       "      <th>DAYOFSERVICE</th>\n",
       "      <td>2182637</td>\n",
       "      <td>2018-06-28 17:25:38.969786880</td>\n",
       "      <td>2018-01-01 00:00:00</td>\n",
       "      <td>2018-03-31 00:00:00</td>\n",
       "      <td>2018-06-28 00:00:00</td>\n",
       "      <td>2018-09-26 00:00:00</td>\n",
       "      <td>2018-12-31 00:00:00</td>\n",
       "      <td>NaN</td>\n",
       "    </tr>\n",
       "    <tr>\n",
       "      <th>PLANNEDTIME_ARR</th>\n",
       "      <td>2182637.0</td>\n",
       "      <td>55078.747653</td>\n",
       "      <td>18203.0</td>\n",
       "      <td>39683.0</td>\n",
       "      <td>55276.0</td>\n",
       "      <td>69006.0</td>\n",
       "      <td>91680.0</td>\n",
       "      <td>17424.822304</td>\n",
       "    </tr>\n",
       "    <tr>\n",
       "      <th>PLANNEDTIME_DEP</th>\n",
       "      <td>2182637.0</td>\n",
       "      <td>51533.29282</td>\n",
       "      <td>16200.0</td>\n",
       "      <td>36000.0</td>\n",
       "      <td>51600.0</td>\n",
       "      <td>65160.0</td>\n",
       "      <td>87600.0</td>\n",
       "      <td>17571.637274</td>\n",
       "    </tr>\n",
       "    <tr>\n",
       "      <th>ACTUALTIME_ARR</th>\n",
       "      <td>2045430.0</td>\n",
       "      <td>55062.38828</td>\n",
       "      <td>17546.0</td>\n",
       "      <td>39668.0</td>\n",
       "      <td>55189.0</td>\n",
       "      <td>69019.0</td>\n",
       "      <td>94378.0</td>\n",
       "      <td>17338.699154</td>\n",
       "    </tr>\n",
       "    <tr>\n",
       "      <th>ACTUALTIME_DEP</th>\n",
       "      <td>2018086.0</td>\n",
       "      <td>51706.116583</td>\n",
       "      <td>15974.0</td>\n",
       "      <td>36518.0</td>\n",
       "      <td>51618.0</td>\n",
       "      <td>65398.0</td>\n",
       "      <td>97177.0</td>\n",
       "      <td>17526.948184</td>\n",
       "    </tr>\n",
       "    <tr>\n",
       "      <th>LASTUPDATE</th>\n",
       "      <td>2182637</td>\n",
       "      <td>2018-07-16 10:25:44.996667392</td>\n",
       "      <td>2018-01-08 17:21:10</td>\n",
       "      <td>2018-04-10 15:08:12</td>\n",
       "      <td>2018-07-13 19:47:00</td>\n",
       "      <td>2018-10-23 06:57:21</td>\n",
       "      <td>2019-01-16 18:27:21</td>\n",
       "      <td>NaN</td>\n",
       "    </tr>\n",
       "  </tbody>\n",
       "</table>\n",
       "</div>"
      ],
      "text/plain": [
       "                     count                           mean  \\\n",
       "DAYOFSERVICE       2182637  2018-06-28 17:25:38.969786880   \n",
       "PLANNEDTIME_ARR  2182637.0                   55078.747653   \n",
       "PLANNEDTIME_DEP  2182637.0                    51533.29282   \n",
       "ACTUALTIME_ARR   2045430.0                    55062.38828   \n",
       "ACTUALTIME_DEP   2018086.0                   51706.116583   \n",
       "LASTUPDATE         2182637  2018-07-16 10:25:44.996667392   \n",
       "\n",
       "                                 min                  25%  \\\n",
       "DAYOFSERVICE     2018-01-01 00:00:00  2018-03-31 00:00:00   \n",
       "PLANNEDTIME_ARR              18203.0              39683.0   \n",
       "PLANNEDTIME_DEP              16200.0              36000.0   \n",
       "ACTUALTIME_ARR               17546.0              39668.0   \n",
       "ACTUALTIME_DEP               15974.0              36518.0   \n",
       "LASTUPDATE       2018-01-08 17:21:10  2018-04-10 15:08:12   \n",
       "\n",
       "                                 50%                  75%  \\\n",
       "DAYOFSERVICE     2018-06-28 00:00:00  2018-09-26 00:00:00   \n",
       "PLANNEDTIME_ARR              55276.0              69006.0   \n",
       "PLANNEDTIME_DEP              51600.0              65160.0   \n",
       "ACTUALTIME_ARR               55189.0              69019.0   \n",
       "ACTUALTIME_DEP               51618.0              65398.0   \n",
       "LASTUPDATE       2018-07-13 19:47:00  2018-10-23 06:57:21   \n",
       "\n",
       "                                 max           std  \n",
       "DAYOFSERVICE     2018-12-31 00:00:00           NaN  \n",
       "PLANNEDTIME_ARR              91680.0  17424.822304  \n",
       "PLANNEDTIME_DEP              87600.0  17571.637274  \n",
       "ACTUALTIME_ARR               94378.0  17338.699154  \n",
       "ACTUALTIME_DEP               97177.0  17526.948184  \n",
       "LASTUPDATE       2019-01-16 18:27:21           NaN  "
      ]
     },
     "execution_count": 14,
     "metadata": {},
     "output_type": "execute_result"
    }
   ],
   "source": [
    "# print descriptive stats for the continuous columns\n",
    "\n",
    "# first select the columns\n",
    "continuous_cols = df.select_dtypes(['int64', 'float64', 'datetime64[ns]']).columns\n",
    "\n",
    "# descriptive column\n",
    "con_descriptive_df = df[continuous_cols].describe(datetime_is_numeric=True).T \n",
    "\n",
    "con_descriptive_df"
   ]
  },
  {
   "cell_type": "code",
   "execution_count": 15,
   "metadata": {},
   "outputs": [
    {
     "data": {
      "image/png": "[encoded data removed]",
      "text/plain": [
       "<Figure size 432x288 with 1 Axes>"
      ]
     },
     "metadata": {
      "needs_background": "light"
     },
     "output_type": "display_data"
    },
    {
     "data": {
      "image/png": "[encoded data removed]",
      "text/plain": [
       "<Figure size 432x288 with 1 Axes>"
      ]
     },
     "metadata": {
      "needs_background": "light"
     },
     "output_type": "display_data"
    },
    {
     "data": {
      "image/png": "[encoded data removed]",
      "text/plain": [
       "<Figure size 432x288 with 1 Axes>"
      ]
     },
     "metadata": {
      "needs_background": "light"
     },
     "output_type": "display_data"
    },
    {
     "data": {
      "image/png": "[encoded data removed]",
      "text/plain": [
       "<Figure size 432x288 with 1 Axes>"
      ]
     },
     "metadata": {
      "needs_background": "light"
     },
     "output_type": "display_data"
    },
    {
     "data": {
      "image/png": "[encoded data removed]",
      "text/plain": [
       "<Figure size 432x288 with 1 Axes>"
      ]
     },
     "metadata": {
      "needs_background": "light"
     },
     "output_type": "display_data"
    },
    {
     "data": {
      "image/png": "[encoded data removed]",
      "text/plain": [
       "<Figure size 432x288 with 1 Axes>"
      ]
     },
     "metadata": {
      "needs_background": "light"
     },
     "output_type": "display_data"
    }
   ],
   "source": [
    "for col in continuous_cols:\n",
    " df[col].hist()\n",
    " plt.title(col)\n",
    " plt.show()"
   ]
  },
  {
   "cell_type": "code",
   "execution_count": 16,
   "metadata": {},
   "outputs": [
    {
     "data": {
      "text/plain": [
       "DATASOURCE              1\n",
       "LINEID                130\n",
       "ROUTEID               588\n",
       "BASIN                   1\n",
       "NOTE                46690\n",
       "TRIPID             658964\n",
       "DIRECTION               2\n",
       "TENDERLOT               0\n",
       "SUPPRESSED              1\n",
       "JUSTIFICATIONID      3526\n",
       "dtype: int64"
      ]
     },
     "execution_count": 16,
     "metadata": {},
     "output_type": "execute_result"
    }
   ],
   "source": [
    "# print descriptives for categorical columns\n",
    "cardinality = df[categorical_cols].nunique()\n",
    "cardinality"
   ]
  },
  {
   "cell_type": "code",
   "execution_count": 17,
   "metadata": {},
   "outputs": [
    {
     "data": {
      "text/plain": [
       "DATASOURCE               0\n",
       "LINEID                   0\n",
       "ROUTEID                  0\n",
       "BASIN                    0\n",
       "NOTE                     0\n",
       "TRIPID                   0\n",
       "DIRECTION                0\n",
       "TENDERLOT          2182637\n",
       "SUPPRESSED         2178304\n",
       "JUSTIFICATIONID    2178307\n",
       "dtype: int64"
      ]
     },
     "execution_count": 17,
     "metadata": {},
     "output_type": "execute_result"
    }
   ],
   "source": [
    "null_count = df[categorical_cols].isnull().sum()\n",
    "null_count"
   ]
  },
  {
   "cell_type": "code",
   "execution_count": 18,
   "metadata": {},
   "outputs": [
    {
     "data": {
      "text/html": [
       "<div>\n",
       "<style scoped>\n",
       "    .dataframe tbody tr th:only-of-type {\n",
       "        vertical-align: middle;\n",
       "    }\n",
       "\n",
       "    .dataframe tbody tr th {\n",
       "        vertical-align: top;\n",
       "    }\n",
       "\n",
       "    .dataframe thead th {\n",
       "        text-align: right;\n",
       "    }\n",
       "</style>\n",
       "<table border=\"1\" class=\"dataframe\">\n",
       "  <thead>\n",
       "    <tr style=\"text-align: right;\">\n",
       "      <th></th>\n",
       "      <th>DATASOURCE</th>\n",
       "      <th>LINEID</th>\n",
       "      <th>ROUTEID</th>\n",
       "      <th>BASIN</th>\n",
       "      <th>NOTE</th>\n",
       "      <th>TRIPID</th>\n",
       "      <th>DIRECTION</th>\n",
       "      <th>TENDERLOT</th>\n",
       "      <th>SUPPRESSED</th>\n",
       "      <th>JUSTIFICATIONID</th>\n",
       "    </tr>\n",
       "  </thead>\n",
       "  <tbody>\n",
       "    <tr>\n",
       "      <th>count</th>\n",
       "      <td>2182637</td>\n",
       "      <td>2182637</td>\n",
       "      <td>2182637</td>\n",
       "      <td>2182637</td>\n",
       "      <td>2182637</td>\n",
       "      <td>2182637</td>\n",
       "      <td>2182637</td>\n",
       "      <td>0</td>\n",
       "      <td>4333.0</td>\n",
       "      <td>4330.0</td>\n",
       "    </tr>\n",
       "    <tr>\n",
       "      <th>unique</th>\n",
       "      <td>1</td>\n",
       "      <td>130</td>\n",
       "      <td>588</td>\n",
       "      <td>1</td>\n",
       "      <td>46690</td>\n",
       "      <td>658964</td>\n",
       "      <td>2</td>\n",
       "      <td>0</td>\n",
       "      <td>1.0</td>\n",
       "      <td>3526.0</td>\n",
       "    </tr>\n",
       "    <tr>\n",
       "      <th>top</th>\n",
       "      <td>DB</td>\n",
       "      <td>46A</td>\n",
       "      <td>46A_74</td>\n",
       "      <td>BasDef</td>\n",
       "      <td>,2703274,</td>\n",
       "      <td>7327038</td>\n",
       "      <td>2</td>\n",
       "      <td>NaN</td>\n",
       "      <td>0.0</td>\n",
       "      <td>203708.0</td>\n",
       "    </tr>\n",
       "    <tr>\n",
       "      <th>freq</th>\n",
       "      <td>2182637</td>\n",
       "      <td>76728</td>\n",
       "      <td>37182</td>\n",
       "      <td>2182637</td>\n",
       "      <td>244</td>\n",
       "      <td>19</td>\n",
       "      <td>1100273</td>\n",
       "      <td>NaN</td>\n",
       "      <td>4333.0</td>\n",
       "      <td>19.0</td>\n",
       "    </tr>\n",
       "  </tbody>\n",
       "</table>\n",
       "</div>"
      ],
      "text/plain": [
       "       DATASOURCE   LINEID  ROUTEID    BASIN       NOTE   TRIPID  DIRECTION  \\\n",
       "count     2182637  2182637  2182637  2182637    2182637  2182637    2182637   \n",
       "unique          1      130      588        1      46690   658964          2   \n",
       "top            DB      46A   46A_74   BasDef  ,2703274,  7327038          2   \n",
       "freq      2182637    76728    37182  2182637        244       19    1100273   \n",
       "\n",
       "       TENDERLOT  SUPPRESSED  JUSTIFICATIONID  \n",
       "count          0      4333.0           4330.0  \n",
       "unique         0         1.0           3526.0  \n",
       "top          NaN         0.0         203708.0  \n",
       "freq         NaN      4333.0             19.0  "
      ]
     },
     "execution_count": 18,
     "metadata": {},
     "output_type": "execute_result"
    }
   ],
   "source": [
    "df[categorical_cols].describe()"
   ]
  },
  {
   "cell_type": "code",
   "execution_count": 19,
   "metadata": {},
   "outputs": [
    {
     "data": {
      "image/png": "[encoded data removed]",
      "text/plain": [
       "<Figure size 1080x360 with 1 Axes>"
      ]
     },
     "metadata": {
      "needs_background": "light"
     },
     "output_type": "display_data"
    },
    {
     "data": {
      "image/png": "[encoded data removed]",
      "text/plain": [
       "<Figure size 1080x360 with 1 Axes>"
      ]
     },
     "metadata": {
      "needs_background": "light"
     },
     "output_type": "display_data"
    },
    {
     "data": {
      "image/png": "[encoded data removed]",
      "text/plain": [
       "<Figure size 1080x360 with 1 Axes>"
      ]
     },
     "metadata": {
      "needs_background": "light"
     },
     "output_type": "display_data"
    },
    {
     "data": {
      "image/png": "[encoded data removed]",
      "text/plain": [
       "<Figure size 1080x360 with 1 Axes>"
      ]
     },
     "metadata": {
      "needs_background": "light"
     },
     "output_type": "display_data"
    },
    {
     "data": {
      "image/png": "[encoded data removed]",
      "text/plain": [
       "<Figure size 1080x360 with 1 Axes>"
      ]
     },
     "metadata": {
      "needs_background": "light"
     },
     "output_type": "display_data"
    }
   ],
   "source": [
    "high_card_cols = df[['LINEID', 'ROUTEID', 'NOTE','TRIPID','JUSTIFICATIONID']]\n",
    "for col in high_card_cols:\n",
    "    df[col].value_counts(dropna=True)[:20].plot(kind='bar', title=col, figsize=(15,5))\n",
    "    plt.show()"
   ]
  },
  {
   "cell_type": "code",
   "execution_count": 20,
   "metadata": {},
   "outputs": [
    {
     "data": {
      "image/png": "[encoded data removed]",
      "text/plain": [
       "<Figure size 1080x360 with 1 Axes>"
      ]
     },
     "metadata": {
      "needs_background": "light"
     },
     "output_type": "display_data"
    },
    {
     "data": {
      "image/png": "[encoded data removed]",
      "text/plain": [
       "<Figure size 1080x360 with 1 Axes>"
      ]
     },
     "metadata": {
      "needs_background": "light"
     },
     "output_type": "display_data"
    },
    {
     "data": {
      "image/png": "[encoded data removed]",
      "text/plain": [
       "<Figure size 1080x360 with 1 Axes>"
      ]
     },
     "metadata": {
      "needs_background": "light"
     },
     "output_type": "display_data"
    },
    {
     "data": {
      "image/png": "[encoded data removed]",
      "text/plain": [
       "<Figure size 1080x360 with 1 Axes>"
      ]
     },
     "metadata": {
      "needs_background": "light"
     },
     "output_type": "display_data"
    },
    {
     "data": {
      "image/png": "[encoded data removed]",
      "text/plain": [
       "<Figure size 1080x360 with 1 Axes>"
      ]
     },
     "metadata": {
      "needs_background": "light"
     },
     "output_type": "display_data"
    }
   ],
   "source": [
    "for col in high_card_cols:\n",
    "    df[col].value_counts(dropna=True)[:20].plot(kind='bar', title=col, figsize=(15,5))\n",
    "    plt.show()"
   ]
  },
  {
   "cell_type": "code",
   "execution_count": 22,
   "metadata": {},
   "outputs": [
    {
     "data": {
      "image/png": "[encoded data removed]",
      "text/plain": [
       "<Figure size 1080x360 with 1 Axes>"
      ]
     },
     "metadata": {
      "needs_background": "light"
     },
     "output_type": "display_data"
    }
   ],
   "source": [
    "# plot bar chart for 'DIRECTION'\n",
    "df['DIRECTION'].value_counts(dropna=True).plot(kind='bar', title='DIRECTION', figsize=(15,5))\n",
    "plt.show()"
   ]
  },
  {
   "cell_type": "code",
   "execution_count": null,
   "metadata": {},
   "outputs": [],
   "source": []
  }
 ],
 "metadata": {
  "interpreter": {
   "hash": "7699efb4af24be428a0b5648dfa7aba129b905e3165e555843cf88f6106e2e55"
  },
  "kernelspec": {
   "display_name": "Python 3.8.13 ('rp22')",
   "language": "python",
   "name": "python3"
  },
  "language_info": {
   "codemirror_mode": {
    "name": "ipython",
    "version": 3
   },
   "file_extension": ".py",
   "mimetype": "text/x-python",
   "name": "python",
   "nbconvert_exporter": "python",
   "pygments_lexer": "ipython3",
   "version": "3.8.13"
  },
  "orig_nbformat": 4
 },
 "nbformat": 4,
 "nbformat_minor": 2
}
