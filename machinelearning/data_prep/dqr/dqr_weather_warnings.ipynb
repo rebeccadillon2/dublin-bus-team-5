{
 "cells": [
  {
   "cell_type": "markdown",
   "metadata": {},
   "source": [
    "# Introduction\n",
    "\n",
    "|Feature|Description|Unit|\n",
    "|---|---|---|\n",
    "|Issue Time|Time the warning was issued|utc|\n",
    "|Valid From|Time the warning was valid from|utc|\t  \n",
    "|Valid To|Time the warning was valid to|utc|\n",
    "|Warning Colour|Colour status of the weather warning (severity)|String|\n",
    "|Warning Element|Weather concern (rain, fog etc)|String|\n",
    "|Where To Text|Location of weather warning|String|\t                 \n",
    "|Warning Text|Description of weather warning|String|\n",
    "\n",
    "\n",
    "Following this there are a series of columns for each County/Provice which contain boolean values TRUE and FALSE indicating whether the weather warning is attached to that location."
   ]
  },
  {
   "cell_type": "code",
   "execution_count": null,
   "metadata": {},
   "outputs": [],
   "source": [
    "import pandas as pd\n",
    "import matplotlib.pyplot as plt"
   ]
  },
  {
   "cell_type": "code",
   "execution_count": null,
   "metadata": {},
   "outputs": [],
   "source": [
    "# import of ods file code from https://stackoverflow.com/questions/17834995/how-to-convert-opendocument-spreadsheets-to-a-pandas-dataframe\n",
    "\n",
    "df = pd.read_excel('/Users/rebeccadillon/git/dublin-bus-team-5/machinelearning/data/raw_data/Archived_Wx_Warnings_25April2012_17February2021.ods', engine='odf')"
   ]
  },
  {
   "cell_type": "code",
   "execution_count": null,
   "metadata": {},
   "outputs": [],
   "source": [
    "df.info()"
   ]
  },
  {
   "cell_type": "markdown",
   "metadata": {},
   "source": [
    "First thing I will do is drop all county and province columns apart from the Dublin column as they are not applicable to the model."
   ]
  },
  {
   "cell_type": "code",
   "execution_count": null,
   "metadata": {},
   "outputs": [],
   "source": [
    "df = df.drop(columns=['Munster','Clare','Cork','Kerry','Limerick','Tipperary','Tipperary SR','Waterford','Leinster','Carlow','Kildare','Kilkenny','Laois','Longford','Louth','Meath','Offaly','Westmeath','Wexford','Wicklow','Ulster','Cavan','Donegal','Monaghan','Connacht','Galway','Leitrim','Mayo','Roscommon','Sligo'])"
   ]
  },
  {
   "cell_type": "markdown",
   "metadata": {},
   "source": [
    "From the above we can see there are now only 8 columns and 1654 rows in the dataframe."
   ]
  },
  {
   "cell_type": "code",
   "execution_count": null,
   "metadata": {},
   "outputs": [],
   "source": [
    "df.dtypes "
   ]
  },
  {
   "cell_type": "code",
   "execution_count": null,
   "metadata": {},
   "outputs": [],
   "source": [
    "# change object and boolean columns to categorical\n",
    "\n",
    "# select object and boolean columns\n",
    "object_cols = df.select_dtypes(['object', 'bool']).columns\n",
    "\n",
    "# change to categorical\n",
    "for col in object_cols:\n",
    "    df[col] = df[col].astype('category')\n",
    "df.dtypes"
   ]
  },
  {
   "cell_type": "code",
   "execution_count": null,
   "metadata": {},
   "outputs": [],
   "source": [
    "# check cardinality\n",
    "df.nunique()"
   ]
  },
  {
   "cell_type": "markdown",
   "metadata": {},
   "source": [
    "We can see there are several categorical columns with large values for cardinality. The usefulness of these columns will have to be further examined. As the 'Dublin' feature contains 2 unique values, True and False, the rows containing False will be dropped from the dataframe."
   ]
  },
  {
   "cell_type": "code",
   "execution_count": null,
   "metadata": {},
   "outputs": [],
   "source": [
    "df = df[df['Dublin'] != False]\n",
    "df['Dublin']"
   ]
  },
  {
   "cell_type": "markdown",
   "metadata": {},
   "source": [
    "Drop rows that contain data for weather warnings outside of required timeframe (i.e., 2018). Keep values that contain a date on or between 31/12/2017 and 31/12/2018 in the 'Issue Time' column."
   ]
  },
  {
   "cell_type": "code",
   "execution_count": null,
   "metadata": {},
   "outputs": [],
   "source": [
    "df_2018 = df[(df['Valid From'] <= '2018-12-31') & (df['Valid To'] >= '2018-01-01')]\n",
    "df = df_2018"
   ]
  },
  {
   "cell_type": "code",
   "execution_count": null,
   "metadata": {},
   "outputs": [],
   "source": [
    "df.reset_index(drop=True)"
   ]
  },
  {
   "cell_type": "code",
   "execution_count": null,
   "metadata": {},
   "outputs": [],
   "source": [
    "# check for duplicate rows\n",
    "df.duplicated().value_counts()"
   ]
  },
  {
   "cell_type": "markdown",
   "metadata": {},
   "source": [
    "## Descriptive statistics\n",
    "### Continuous features"
   ]
  },
  {
   "cell_type": "code",
   "execution_count": null,
   "metadata": {},
   "outputs": [],
   "source": [
    "# first select the columns\n",
    "continuous_cols = df.select_dtypes(['datetime64[ns]']).columns\n",
    "\n",
    "# descriptive column\n",
    "con_descriptive_df = df[continuous_cols].describe(datetime_is_numeric=True).T \n",
    "\n",
    "con_descriptive_df"
   ]
  },
  {
   "cell_type": "code",
   "execution_count": null,
   "metadata": {},
   "outputs": [],
   "source": [
    "for col in continuous_cols:\n",
    " df[col].hist(figsize=(15,5))\n",
    " plt.title(col)\n",
    " plt.show()"
   ]
  },
  {
   "cell_type": "markdown",
   "metadata": {},
   "source": [
    "### Categorical features"
   ]
  },
  {
   "cell_type": "code",
   "execution_count": null,
   "metadata": {},
   "outputs": [],
   "source": [
    "# select categorical columns\n",
    "categorical_cols = df.select_dtypes(['category']).columns\n",
    "\n",
    "# print descriptives for categorical columns\n",
    "cardinality = df[categorical_cols].nunique()\n",
    "cardinality"
   ]
  },
  {
   "cell_type": "code",
   "execution_count": null,
   "metadata": {},
   "outputs": [],
   "source": [
    "null_count = df[categorical_cols].isnull().sum()\n",
    "null_count"
   ]
  },
  {
   "cell_type": "code",
   "execution_count": null,
   "metadata": {},
   "outputs": [],
   "source": [
    "df[categorical_cols].describe()"
   ]
  },
  {
   "cell_type": "code",
   "execution_count": null,
   "metadata": {},
   "outputs": [],
   "source": [
    "high_card_cols = df[['WhereToText','Warning Text']]\n",
    "for col in high_card_cols:\n",
    "    df[col].value_counts(dropna=True)[:20].plot(kind='bar', title=col, figsize=(15,5))\n",
    "    plt.show()"
   ]
  },
  {
   "cell_type": "code",
   "execution_count": null,
   "metadata": {},
   "outputs": [],
   "source": [
    "low_card_cols = df[['Warning Colour','Warning Element', 'Dublin']]\n",
    "for col in low_card_cols:\n",
    "    df[col].value_counts(dropna=True).plot(kind='bar', title=col, figsize=(15,5))\n",
    "    plt.show()"
   ]
  },
  {
   "cell_type": "code",
   "execution_count": null,
   "metadata": {},
   "outputs": [],
   "source": [
    "df = df.reset_index(drop=True)"
   ]
  },
  {
   "cell_type": "code",
   "execution_count": null,
   "metadata": {},
   "outputs": [],
   "source": [
    "df.to_csv('data/weather-wearnings-cleaned.csv', index=False)"
   ]
  },
  {
   "cell_type": "markdown",
   "metadata": {},
   "source": [
    "# Data Quality Plan\n",
    "|Feature|Data Quality Issue|Action|\n",
    "|---|---|---|\n",
    "|Issue Time|Rows outside of required timeframe|Dropped rows in initial cleaning|\n",
    "|   |Column does not add information|Drop column|\n",
    "|Valid From|Rows outside of required timeframe|Dropped rows in initial cleaning| \n",
    "|Valid To|Rows outside of required timeframe|Dropped rows in initial cleaning|\n",
    "|Warning Colour|No issues|Keep column|\n",
    "|Warning Element|No issues with data however relevance debatable|Keep column and later assess relevance|\n",
    "|Where To Text|Unnecessary due to Dublin column|Drop column|\t                 \n",
    "|Warning Text|Unnecessary due to high cardinality and nature of model|Drop column|\n",
    "|Dublin|One value, does not add information|Drop column|"
   ]
  },
  {
   "cell_type": "markdown",
   "metadata": {},
   "source": [
    "As per the issues identified in the DQR above, the following columns can be dropped from the dataframe:\n",
    "* Issue Time\n",
    "* WhereToText\n",
    "* Warning Text\n",
    "* Dublin"
   ]
  },
  {
   "cell_type": "code",
   "execution_count": 28,
   "metadata": {},
   "outputs": [],
   "source": [
    "df.drop(columns=['Issue Time', 'WhereToText','Warning Text','Dublin'], inplace=True)"
   ]
  },
  {
   "cell_type": "code",
   "execution_count": 29,
   "metadata": {},
   "outputs": [
    {
     "data": {
      "text/html": [
       "<div>\n",
       "<style scoped>\n",
       "    .dataframe tbody tr th:only-of-type {\n",
       "        vertical-align: middle;\n",
       "    }\n",
       "\n",
       "    .dataframe tbody tr th {\n",
       "        vertical-align: top;\n",
       "    }\n",
       "\n",
       "    .dataframe thead th {\n",
       "        text-align: right;\n",
       "    }\n",
       "</style>\n",
       "<table border=\"1\" class=\"dataframe\">\n",
       "  <thead>\n",
       "    <tr style=\"text-align: right;\">\n",
       "      <th></th>\n",
       "      <th>Valid From</th>\n",
       "      <th>Valid To</th>\n",
       "      <th>Warning Colour</th>\n",
       "      <th>Warning Element</th>\n",
       "    </tr>\n",
       "  </thead>\n",
       "  <tbody>\n",
       "    <tr>\n",
       "      <th>0</th>\n",
       "      <td>2018-01-02 17:00:00</td>\n",
       "      <td>2018-01-03 21:00:00</td>\n",
       "      <td>Yellow</td>\n",
       "      <td>Wind</td>\n",
       "    </tr>\n",
       "    <tr>\n",
       "      <th>1</th>\n",
       "      <td>2018-01-02 17:00:00</td>\n",
       "      <td>2018-01-02 22:00:00</td>\n",
       "      <td>Orange</td>\n",
       "      <td>Wind</td>\n",
       "    </tr>\n",
       "    <tr>\n",
       "      <th>2</th>\n",
       "      <td>2018-01-02 16:00:00</td>\n",
       "      <td>2018-01-02 21:00:00</td>\n",
       "      <td>Orange</td>\n",
       "      <td>Wind</td>\n",
       "    </tr>\n",
       "    <tr>\n",
       "      <th>3</th>\n",
       "      <td>2018-01-02 16:00:00</td>\n",
       "      <td>2018-01-02 22:00:00</td>\n",
       "      <td>Orange</td>\n",
       "      <td>Wind</td>\n",
       "    </tr>\n",
       "    <tr>\n",
       "      <th>4</th>\n",
       "      <td>2018-01-02 22:00:00</td>\n",
       "      <td>2018-01-03 14:00:00</td>\n",
       "      <td>Yellow</td>\n",
       "      <td>Wind</td>\n",
       "    </tr>\n",
       "  </tbody>\n",
       "</table>\n",
       "</div>"
      ],
      "text/plain": [
       "           Valid From            Valid To Warning Colour Warning Element\n",
       "0 2018-01-02 17:00:00 2018-01-03 21:00:00         Yellow            Wind\n",
       "1 2018-01-02 17:00:00 2018-01-02 22:00:00         Orange            Wind\n",
       "2 2018-01-02 16:00:00 2018-01-02 21:00:00         Orange            Wind\n",
       "3 2018-01-02 16:00:00 2018-01-02 22:00:00         Orange            Wind\n",
       "4 2018-01-02 22:00:00 2018-01-03 14:00:00         Yellow            Wind"
      ]
     },
     "execution_count": 29,
     "metadata": {},
     "output_type": "execute_result"
    }
   ],
   "source": [
    "df.head()"
   ]
  },
  {
   "cell_type": "code",
   "execution_count": 30,
   "metadata": {},
   "outputs": [],
   "source": [
    "# Save cleaned df to file\n",
    "df.to_csv('/Users/rebeccadillon/git/dublin-bus-team-5/machinelearning/data/cleaned/weather-wearnings-cleaned-dqp.csv', index=False)"
   ]
  }
 ],
 "metadata": {
  "interpreter": {
   "hash": "7699efb4af24be428a0b5648dfa7aba129b905e3165e555843cf88f6106e2e55"
  },
  "kernelspec": {
   "display_name": "Python 3.8.13 ('rp22')",
   "language": "python",
   "name": "python3"
  },
  "language_info": {
   "codemirror_mode": {
    "name": "ipython",
    "version": 3
   },
   "file_extension": ".py",
   "mimetype": "text/x-python",
   "name": "python",
   "nbconvert_exporter": "python",
   "pygments_lexer": "ipython3",
   "version": "3.8.13"
  },
  "orig_nbformat": 4
 },
 "nbformat": 4,
 "nbformat_minor": 2
}
