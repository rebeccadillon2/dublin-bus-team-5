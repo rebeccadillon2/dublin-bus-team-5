{
 "cells": [
  {
   "cell_type": "code",
   "execution_count": 2,
   "metadata": {},
   "outputs": [],
   "source": [
    "import pickle \n",
    "# ignore warnings\n",
    "import warnings\n",
    "warnings.filterwarnings('ignore')"
   ]
  },
  {
   "cell_type": "markdown",
   "metadata": {},
   "source": [
    "Load models into notebook and print prediction result."
   ]
  },
  {
   "cell_type": "code",
<<<<<<< refs/remotes/origin/ml/modeling
   "execution_count": 9,
   "metadata": {},
   "outputs": [
    {
     "name": "stdout",
     "output_type": "stream",
     "text": [
      "[4476.28]\n"
     ]
=======
   "execution_count": 3,
   "metadata": {},
   "outputs": [
    {
     "data": {
      "text/plain": [
       "array([2747.08])"
      ]
     },
     "execution_count": 3,
     "metadata": {},
     "output_type": "execute_result"
>>>>>>> updated notebooks with optimisation methods
    }
   ],
   "source": [
    "filename = '/Users/rebeccadillon/git/dublin-bus-team-5/machinelearning/data/modelling/randomforest/picklefiles/line_77A_model/dir1/line_77A_rfr.pkl'\n",
    "model = pickle.load(open(filename, 'rb')) \n",
<<<<<<< refs/remotes/origin/ml/modeling
    "# order of features is ['PLANNEDTIME_DEP','RUSHHOUR','humidity','wind_speed','WEEKDAY','MONTH']\n",
    "print(model.predict([[19800, 0, 75, 5.1, 1, 1]]))"
=======
    "model.predict([[75,5.1,19800,1,1]])"
>>>>>>> updated notebooks with optimisation methods
   ]
  },
  {
   "cell_type": "code",
<<<<<<< refs/remotes/origin/ml/modeling
   "execution_count": 10,
   "metadata": {},
   "outputs": [
    {
     "name": "stdout",
     "output_type": "stream",
     "text": [
      "[5063.6]\n"
     ]
=======
   "execution_count": 4,
   "metadata": {},
   "outputs": [
    {
     "data": {
      "text/plain": [
       "array([4236.76])"
      ]
     },
     "execution_count": 4,
     "metadata": {},
     "output_type": "execute_result"
>>>>>>> updated notebooks with optimisation methods
    }
   ],
   "source": [
    "filenamep = '/Users/rebeccadillon/git/dublin-bus-team-5/machinelearning/data/modelling/randomforest/picklefiles/line_77A_model/dir2/line_77A_rfr.pkl'\n",
    "model = pickle.load(open(filenamep, 'rb')) \n",
<<<<<<< refs/remotes/origin/ml/modeling
    "# order of features is ['PLANNEDTIME_DEP','RUSHHOUR','humidity','wind_speed','WEEKDAY','MONTH']\n",
    "print(model.predict([[19800, 0, 75, 5.1, 1, 1]]))"
=======
    "model.predict([[75,5.1,19800,1,1]])"
>>>>>>> updated notebooks with optimisation methods
   ]
  },
  {
   "cell_type": "code",
   "execution_count": null,
   "metadata": {},
   "outputs": [],
   "source": []
  }
 ],
 "metadata": {
  "interpreter": {
   "hash": "7699efb4af24be428a0b5648dfa7aba129b905e3165e555843cf88f6106e2e55"
  },
  "kernelspec": {
   "display_name": "Python 3.8.13 ('rp22')",
   "language": "python",
   "name": "python3"
  },
  "language_info": {
   "codemirror_mode": {
    "name": "ipython",
    "version": 3
   },
   "file_extension": ".py",
   "mimetype": "text/x-python",
   "name": "python",
   "nbconvert_exporter": "python",
   "pygments_lexer": "ipython3",
   "version": "3.8.13"
  },
  "orig_nbformat": 4
 },
 "nbformat": 4,
 "nbformat_minor": 2
}
