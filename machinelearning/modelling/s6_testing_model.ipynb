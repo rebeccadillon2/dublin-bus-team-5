{
 "cells": [
  {
   "cell_type": "code",
   "execution_count": 1,
   "metadata": {},
   "outputs": [],
   "source": [
    "import joblib \n",
    "# ignore warnings\n",
    "import warnings\n",
    "warnings.filterwarnings('ignore')"
   ]
  },
  {
   "cell_type": "code",
   "execution_count": 2,
   "metadata": {},
   "outputs": [
    {
     "data": {
      "text/plain": [
       "array([1243.84])"
      ]
     },
     "execution_count": 2,
     "metadata": {},
     "output_type": "execute_result"
    }
   ],
   "source": [
    "filename = \"/Users/rebeccadillon/git/dublin-bus-team-5/machinelearning/data/modelling/randomforest/joblibfiles/line_238_model/dir1/line_238_rfr.joblib\"\n",
    "model = joblib.load(filename) \n",
    "model.predict([[75,5.1,19800,1,1]])"
   ]
  },
  {
   "cell_type": "code",
   "execution_count": 3,
   "metadata": {},
   "outputs": [
    {
     "data": {
      "text/plain": [
       "array([1679.9])"
      ]
     },
     "execution_count": 3,
     "metadata": {},
     "output_type": "execute_result"
    }
   ],
   "source": [
    "filename = \"/Users/rebeccadillon/git/dublin-bus-team-5/machinelearning/data/modelling/randomforest/joblibfiles/line_238_model/dir2/line_238_rfr.joblib\"\n",
    "model = joblib.load(filename) \n",
    "model.predict([[75,5.1,19800,1,1]])"
   ]
  },
  {
   "cell_type": "code",
   "execution_count": null,
   "metadata": {},
   "outputs": [],
   "source": []
  }
 ],
 "metadata": {
  "interpreter": {
   "hash": "7699efb4af24be428a0b5648dfa7aba129b905e3165e555843cf88f6106e2e55"
  },
  "kernelspec": {
   "display_name": "Python 3.8.13 ('rp22')",
   "language": "python",
   "name": "python3"
  },
  "language_info": {
   "codemirror_mode": {
    "name": "ipython",
    "version": 3
   },
   "file_extension": ".py",
   "mimetype": "text/x-python",
   "name": "python",
   "nbconvert_exporter": "python",
   "pygments_lexer": "ipython3",
   "version": "3.8.13"
  },
  "orig_nbformat": 4
 },
 "nbformat": 4,
 "nbformat_minor": 2
}
