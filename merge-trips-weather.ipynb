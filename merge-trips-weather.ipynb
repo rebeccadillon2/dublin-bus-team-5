{
 "cells": [
  {
   "cell_type": "code",
   "execution_count": 1,
   "metadata": {},
   "outputs": [],
   "source": [
    "import pandas as pd\n",
    "import numpy as np\n",
    "import matplotlib.pyplot as plt\n",
    "%matplotlib inline\n",
    "from matplotlib.backends.backend_pdf import PdfPages\n",
    "import datetime as dt "
   ]
  },
  {
   "cell_type": "code",
   "execution_count": 2,
   "metadata": {},
   "outputs": [],
   "source": [
    "df_trips = pd.read_csv('data/dqp_trips_cleaned.csv', parse_dates=[0])"
   ]
  },
  {
   "cell_type": "code",
   "execution_count": 3,
   "metadata": {},
   "outputs": [],
   "source": [
    "df_w = pd.read_csv('data/weather/met-2018-data-cleaned.csv', parse_dates=[0])"
   ]
  },
  {
   "cell_type": "code",
   "execution_count": 4,
   "metadata": {},
   "outputs": [],
   "source": [
    "# date columns in different format so going to split time into different column in weather df\n",
    "df_w['DAYOFSERVICE'] = pd.to_datetime(df_w['date']).dt.date\n",
    "df_w['HOUR'] = pd.to_datetime(df_w['date'], format=\"%H:%M:%S\")"
   ]
  },
  {
   "cell_type": "code",
   "execution_count": 5,
   "metadata": {},
   "outputs": [
    {
     "name": "stdout",
     "output_type": "stream",
     "text": [
      "<class 'pandas.core.frame.DataFrame'>\n",
      "RangeIndex: 8760 entries, 0 to 8759\n",
      "Data columns (total 7 columns):\n",
      " #   Column        Non-Null Count  Dtype         \n",
      "---  ------        --------------  -----         \n",
      " 0   date          8760 non-null   datetime64[ns]\n",
      " 1   rain          8760 non-null   float64       \n",
      " 2   temp          8760 non-null   float64       \n",
      " 3   is_raining    8760 non-null   int64         \n",
      " 4   freezing      8760 non-null   int64         \n",
      " 5   DAYOFSERVICE  8760 non-null   object        \n",
      " 6   HOUR          8760 non-null   datetime64[ns]\n",
      "dtypes: datetime64[ns](2), float64(2), int64(2), object(1)\n",
      "memory usage: 479.2+ KB\n"
     ]
    }
   ],
   "source": [
    "df_w.info()"
   ]
  },
  {
   "cell_type": "code",
   "execution_count": 6,
   "metadata": {},
   "outputs": [],
   "source": [
    "# change DAYOFSERVICE and TIME to datetime64\n",
    "df_w['DAYOFSERVICE'] = pd.to_datetime(df_w['DAYOFSERVICE'])\n",
    "df_w['HOUR'] = pd.to_datetime(df_w['HOUR']).dt.hour"
   ]
  },
  {
   "cell_type": "code",
   "execution_count": 7,
   "metadata": {},
   "outputs": [
    {
     "name": "stdout",
     "output_type": "stream",
     "text": [
      "<class 'pandas.core.frame.DataFrame'>\n",
      "RangeIndex: 8760 entries, 0 to 8759\n",
      "Data columns (total 7 columns):\n",
      " #   Column        Non-Null Count  Dtype         \n",
      "---  ------        --------------  -----         \n",
      " 0   date          8760 non-null   datetime64[ns]\n",
      " 1   rain          8760 non-null   float64       \n",
      " 2   temp          8760 non-null   float64       \n",
      " 3   is_raining    8760 non-null   int64         \n",
      " 4   freezing      8760 non-null   int64         \n",
      " 5   DAYOFSERVICE  8760 non-null   datetime64[ns]\n",
      " 6   HOUR          8760 non-null   int64         \n",
      "dtypes: datetime64[ns](2), float64(2), int64(3)\n",
      "memory usage: 479.2 KB\n"
     ]
    }
   ],
   "source": [
    "df_w.info()"
   ]
  },
  {
   "cell_type": "code",
   "execution_count": 8,
   "metadata": {},
   "outputs": [],
   "source": [
    "# create new column with ACTUALTIME_DEP in datetime format\n",
    "df_trips['ACTUALTIME_DEP_HMS'] = pd.to_datetime(df_trips['ACTUALTIME_DEP'], unit='s')"
   ]
  },
  {
   "cell_type": "code",
   "execution_count": 9,
   "metadata": {},
   "outputs": [],
   "source": [
    "df_trips['HOUR'] = df_trips['ACTUALTIME_DEP_HMS'].dt.floor('h')\n"
   ]
  },
  {
   "cell_type": "code",
   "execution_count": 10,
   "metadata": {},
   "outputs": [],
   "source": [
    "df_trips['HOUR'] = pd.to_datetime(df_trips['HOUR']).dt.hour"
   ]
  },
  {
   "cell_type": "code",
   "execution_count": 12,
   "metadata": {},
   "outputs": [
    {
     "name": "stdout",
     "output_type": "stream",
     "text": [
      "<class 'pandas.core.frame.DataFrame'>\n",
      "RangeIndex: 688882 entries, 0 to 688881\n",
      "Data columns (total 11 columns):\n",
      " #   Column              Non-Null Count   Dtype         \n",
      "---  ------              --------------   -----         \n",
      " 0   DAYOFSERVICE        688882 non-null  datetime64[ns]\n",
      " 1   TRIPID              688882 non-null  int64         \n",
      " 2   LINEID              688882 non-null  object        \n",
      " 3   ROUTEID             688882 non-null  object        \n",
      " 4   DIRECTION           688882 non-null  int64         \n",
      " 5   PLANNEDTIME_ARR     688882 non-null  float64       \n",
      " 6   PLANNEDTIME_DEP     688882 non-null  float64       \n",
      " 7   ACTUALTIME_ARR      688882 non-null  float64       \n",
      " 8   ACTUALTIME_DEP      688882 non-null  float64       \n",
      " 9   ACTUALTIME_DEP_HMS  688882 non-null  datetime64[ns]\n",
      " 10  HOUR                688882 non-null  int64         \n",
      "dtypes: datetime64[ns](2), float64(4), int64(3), object(2)\n",
      "memory usage: 57.8+ MB\n"
     ]
    }
   ],
   "source": [
    "df_trips.info()"
   ]
  },
  {
   "cell_type": "code",
   "execution_count": 13,
   "metadata": {},
   "outputs": [],
   "source": [
    "df_merge_tr_lt = pd.merge(df_w,df_trips, on=['DAYOFSERVICE','HOUR'])"
   ]
  },
  {
   "cell_type": "code",
   "execution_count": 18,
   "metadata": {},
   "outputs": [],
   "source": [
    "# drop unnecessary columns\n",
    "df_merge_tr_lt = df_merge_tr_lt.drop(columns=['ACTUALTIME_DEP_HMS', 'date'])"
   ]
  },
  {
   "cell_type": "code",
   "execution_count": 20,
   "metadata": {},
   "outputs": [],
   "source": [
    "df_merge_tr_lt.to_csv('merged_weather_trips.csv', index=False)"
   ]
  }
 ],
 "metadata": {
  "interpreter": {
   "hash": "7699efb4af24be428a0b5648dfa7aba129b905e3165e555843cf88f6106e2e55"
  },
  "kernelspec": {
   "display_name": "Python 3.8.13 ('rp22')",
   "language": "python",
   "name": "python3"
  },
  "language_info": {
   "codemirror_mode": {
    "name": "ipython",
    "version": 3
   },
   "file_extension": ".py",
   "mimetype": "text/x-python",
   "name": "python",
   "nbconvert_exporter": "python",
   "pygments_lexer": "ipython3",
   "version": "3.8.13"
  },
  "orig_nbformat": 4
 },
 "nbformat": 4,
 "nbformat_minor": 2
}
