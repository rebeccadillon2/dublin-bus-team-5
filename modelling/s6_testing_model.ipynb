{
 "cells": [
  {
   "cell_type": "code",
   "execution_count": 30,
   "metadata": {},
   "outputs": [],
   "source": [
    "import _pickle as cPickle\n",
    "from sklearn.svm import SVR\n",
    "import joblib\n",
    "import bz2\n",
    "import pickle\n",
    "import pandas as pd\n",
    "import os"
   ]
  },
  {
   "cell_type": "markdown",
   "metadata": {},
   "source": [
    "https://joblib.readthedocs.io/en/latest/generated/joblib.dump.html"
   ]
  },
  {
   "cell_type": "code",
   "execution_count": 32,
   "metadata": {},
   "outputs": [],
   "source": [
    "# unpickling compressed pickle file to get prediction\n",
    "filename = \"/Users/rebeccadillon/git/dublin-bus-team-5/data/modelling/randomforest/joblibfiles/line_1_model/dir1/line_1_rfr.joblib\"\n",
    "model = bz2.open(filename, mode='rb', encoding=None, errors=None, newline=None)"
   ]
  },
  {
   "cell_type": "code",
   "execution_count": 27,
   "metadata": {},
   "outputs": [],
   "source": [
    "dirpath = '/Users/rebeccadillon/git/dublin-bus-team-5/data/modelling/randomforest/joblibfiles/line_1_model/dir1/'\n",
    "filepath = os.path.join(dirpath, filename)\n",
    "newfilepath = os.path.join(dirpath, filename + '.decompressed')\n",
    "with open(newfilepath, 'wb') as new_file, bz2.BZ2File(filepath, 'rb') as file:\n",
    "    for data in iter(lambda : file.read(100 * 1024), b''):\n",
    "        new_file.write(data)"
   ]
  },
  {
   "cell_type": "code",
   "execution_count": 34,
   "metadata": {},
   "outputs": [],
   "source": [
    "#unpickling compressed pickle file to get prediction\n",
    "filename = \"/Users/rebeccadillon/git/dublin-bus-team-5/data/modelling/randomforest/joblibfiles/line_65_model/dir1/line_65_rfr.joblib\"\n",
    "with open(filename, 'rb') as f:\n",
    "    model = joblib.load(f)"
   ]
  },
  {
   "cell_type": "code",
   "execution_count": 36,
   "metadata": {},
   "outputs": [
    {
     "data": {
      "text/plain": [
       "4189.35"
      ]
     },
     "execution_count": 36,
     "metadata": {},
     "output_type": "execute_result"
    }
   ],
   "source": [
    "float(model.predict(pd.DataFrame([[75,5.1,19800,1,1]], columns=[\"humidity\",\"wind_speed\",\"PLANNEDTIME_DEP\",\"WEEKDAY\",\"MONTH\"])))"
   ]
  },
  {
   "cell_type": "code",
   "execution_count": null,
   "metadata": {},
   "outputs": [],
   "source": []
  }
 ],
 "metadata": {
  "interpreter": {
   "hash": "7699efb4af24be428a0b5648dfa7aba129b905e3165e555843cf88f6106e2e55"
  },
  "kernelspec": {
   "display_name": "Python 3.8.13 ('rp22')",
   "language": "python",
   "name": "python3"
  },
  "language_info": {
   "codemirror_mode": {
    "name": "ipython",
    "version": 3
   },
   "file_extension": ".py",
   "mimetype": "text/x-python",
   "name": "python",
   "nbconvert_exporter": "python",
   "pygments_lexer": "ipython3",
   "version": "3.8.13"
  },
  "orig_nbformat": 4
 },
 "nbformat": 4,
 "nbformat_minor": 2
}
