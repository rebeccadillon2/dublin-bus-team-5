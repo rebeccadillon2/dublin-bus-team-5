{
 "cells": [
  {
   "cell_type": "code",
   "execution_count": 1,
   "metadata": {},
   "outputs": [],
   "source": [
    "import pandas as pd\n",
    "import numpy as np\n",
    "import matplotlib.pyplot as plt\n",
    "import matplotlib.patches as mpatches\n",
    "import seaborn as sns"
   ]
  },
  {
   "cell_type": "code",
   "execution_count": 2,
   "metadata": {},
   "outputs": [],
   "source": [
    "df = pd.read_csv('/Users/rebeccadillon/git/dublin-bus-team-5/data/merged files/merged_weather_trips.csv', parse_dates=['DAYOFSERVICE'])"
   ]
  },
  {
   "cell_type": "code",
   "execution_count": 3,
   "metadata": {},
   "outputs": [
    {
     "name": "stdout",
     "output_type": "stream",
     "text": [
      "<class 'pandas.core.frame.DataFrame'>\n",
      "RangeIndex: 688882 entries, 0 to 688881\n",
      "Data columns (total 14 columns):\n",
      " #   Column           Non-Null Count   Dtype         \n",
      "---  ------           --------------   -----         \n",
      " 0   RAIN             688882 non-null  float64       \n",
      " 1   TEMP             688882 non-null  float64       \n",
      " 2   IS_RAINING       688882 non-null  int64         \n",
      " 3   IS_FREEZING      688882 non-null  int64         \n",
      " 4   DAYOFSERVICE     688882 non-null  datetime64[ns]\n",
      " 5   HOUR             688882 non-null  int64         \n",
      " 6   TRIPID           688882 non-null  int64         \n",
      " 7   LINEID           688882 non-null  object        \n",
      " 8   ROUTEID          688882 non-null  object        \n",
      " 9   DIRECTION        688882 non-null  int64         \n",
      " 10  PLANNEDTIME_ARR  688882 non-null  float64       \n",
      " 11  PLANNEDTIME_DEP  688882 non-null  float64       \n",
      " 12  ACTUALTIME_ARR   688882 non-null  float64       \n",
      " 13  ACTUALTIME_DEP   688882 non-null  float64       \n",
      "dtypes: datetime64[ns](1), float64(6), int64(5), object(2)\n",
      "memory usage: 73.6+ MB\n"
     ]
    }
   ],
   "source": [
    "df.info()"
   ]
  },
  {
   "cell_type": "code",
   "execution_count": 4,
   "metadata": {},
   "outputs": [],
   "source": [
    "df['TRIPTIME'] = df['ACTUALTIME_ARR']-df['ACTUALTIME_DEP']"
   ]
  },
  {
   "cell_type": "markdown",
   "metadata": {},
   "source": [
    "Create weekday column"
   ]
  },
  {
   "cell_type": "code",
   "execution_count": 5,
   "metadata": {},
   "outputs": [],
   "source": [
    "# create weekday column\n",
    "df['WEEKDAY'] = df['DAYOFSERVICE'].dt.weekday"
   ]
  },
  {
   "cell_type": "code",
   "execution_count": 6,
   "metadata": {},
   "outputs": [
    {
     "data": {
      "text/plain": [
       "array([1, 2, 3, 4, 5, 0, 6])"
      ]
     },
     "execution_count": 6,
     "metadata": {},
     "output_type": "execute_result"
    }
   ],
   "source": [
    "df['WEEKDAY'].unique()"
   ]
  },
  {
   "cell_type": "markdown",
   "metadata": {},
   "source": [
    "Create month column"
   ]
  },
  {
   "cell_type": "code",
   "execution_count": 7,
   "metadata": {},
   "outputs": [
    {
     "data": {
      "text/plain": [
       "array([ 1,  2,  3,  4,  5,  6,  7,  8,  9, 10, 11, 12])"
      ]
     },
     "execution_count": 7,
     "metadata": {},
     "output_type": "execute_result"
    }
   ],
   "source": [
    "df['MONTH'] = df['DAYOFSERVICE'].dt.month\n",
    "df['MONTH'].unique()"
   ]
  },
  {
   "cell_type": "code",
   "execution_count": 8,
   "metadata": {},
   "outputs": [
    {
     "data": {
      "text/html": [
       "<div>\n",
       "<style scoped>\n",
       "    .dataframe tbody tr th:only-of-type {\n",
       "        vertical-align: middle;\n",
       "    }\n",
       "\n",
       "    .dataframe tbody tr th {\n",
       "        vertical-align: top;\n",
       "    }\n",
       "\n",
       "    .dataframe thead th {\n",
       "        text-align: right;\n",
       "    }\n",
       "</style>\n",
       "<table border=\"1\" class=\"dataframe\">\n",
       "  <thead>\n",
       "    <tr style=\"text-align: right;\">\n",
       "      <th></th>\n",
       "      <th>RAIN</th>\n",
       "      <th>TEMP</th>\n",
       "      <th>IS_RAINING</th>\n",
       "      <th>IS_FREEZING</th>\n",
       "      <th>DAYOFSERVICE</th>\n",
       "      <th>HOUR</th>\n",
       "      <th>TRIPID</th>\n",
       "      <th>LINEID</th>\n",
       "      <th>ROUTEID</th>\n",
       "      <th>DIRECTION</th>\n",
       "      <th>PLANNEDTIME_ARR</th>\n",
       "      <th>PLANNEDTIME_DEP</th>\n",
       "      <th>ACTUALTIME_ARR</th>\n",
       "      <th>ACTUALTIME_DEP</th>\n",
       "      <th>TRIPTIME</th>\n",
       "      <th>WEEKDAY</th>\n",
       "      <th>MONTH</th>\n",
       "    </tr>\n",
       "  </thead>\n",
       "  <tbody>\n",
       "    <tr>\n",
       "      <th>0</th>\n",
       "      <td>0.0</td>\n",
       "      <td>3.8</td>\n",
       "      <td>0</td>\n",
       "      <td>0</td>\n",
       "      <td>2018-01-02</td>\n",
       "      <td>0</td>\n",
       "      <td>5963431</td>\n",
       "      <td>65</td>\n",
       "      <td>65_75</td>\n",
       "      <td>2</td>\n",
       "      <td>91213.0</td>\n",
       "      <td>87300.0</td>\n",
       "      <td>90458.0</td>\n",
       "      <td>87314.0</td>\n",
       "      <td>3144.0</td>\n",
       "      <td>1</td>\n",
       "      <td>1</td>\n",
       "    </tr>\n",
       "    <tr>\n",
       "      <th>1</th>\n",
       "      <td>0.0</td>\n",
       "      <td>5.2</td>\n",
       "      <td>0</td>\n",
       "      <td>0</td>\n",
       "      <td>2018-01-02</td>\n",
       "      <td>5</td>\n",
       "      <td>5963422</td>\n",
       "      <td>65</td>\n",
       "      <td>65_73</td>\n",
       "      <td>1</td>\n",
       "      <td>23878.0</td>\n",
       "      <td>19800.0</td>\n",
       "      <td>24834.0</td>\n",
       "      <td>20409.0</td>\n",
       "      <td>4425.0</td>\n",
       "      <td>1</td>\n",
       "      <td>1</td>\n",
       "    </tr>\n",
       "    <tr>\n",
       "      <th>2</th>\n",
       "      <td>0.0</td>\n",
       "      <td>5.2</td>\n",
       "      <td>0</td>\n",
       "      <td>0</td>\n",
       "      <td>2018-01-02</td>\n",
       "      <td>5</td>\n",
       "      <td>5962263</td>\n",
       "      <td>40</td>\n",
       "      <td>40_31</td>\n",
       "      <td>2</td>\n",
       "      <td>26069.0</td>\n",
       "      <td>21600.0</td>\n",
       "      <td>26163.0</td>\n",
       "      <td>21589.0</td>\n",
       "      <td>4574.0</td>\n",
       "      <td>1</td>\n",
       "      <td>1</td>\n",
       "    </tr>\n",
       "    <tr>\n",
       "      <th>3</th>\n",
       "      <td>0.0</td>\n",
       "      <td>5.2</td>\n",
       "      <td>0</td>\n",
       "      <td>0</td>\n",
       "      <td>2018-01-02</td>\n",
       "      <td>5</td>\n",
       "      <td>5963304</td>\n",
       "      <td>40</td>\n",
       "      <td>40_31</td>\n",
       "      <td>2</td>\n",
       "      <td>25469.0</td>\n",
       "      <td>21000.0</td>\n",
       "      <td>25110.0</td>\n",
       "      <td>21004.0</td>\n",
       "      <td>4106.0</td>\n",
       "      <td>1</td>\n",
       "      <td>1</td>\n",
       "    </tr>\n",
       "    <tr>\n",
       "      <th>4</th>\n",
       "      <td>0.5</td>\n",
       "      <td>5.8</td>\n",
       "      <td>1</td>\n",
       "      <td>0</td>\n",
       "      <td>2018-01-02</td>\n",
       "      <td>6</td>\n",
       "      <td>5961178</td>\n",
       "      <td>14</td>\n",
       "      <td>14_15</td>\n",
       "      <td>1</td>\n",
       "      <td>26508.0</td>\n",
       "      <td>22500.0</td>\n",
       "      <td>26011.0</td>\n",
       "      <td>22497.0</td>\n",
       "      <td>3514.0</td>\n",
       "      <td>1</td>\n",
       "      <td>1</td>\n",
       "    </tr>\n",
       "  </tbody>\n",
       "</table>\n",
       "</div>"
      ],
      "text/plain": [
       "   RAIN  TEMP  IS_RAINING  IS_FREEZING DAYOFSERVICE  HOUR   TRIPID LINEID  \\\n",
       "0   0.0   3.8           0            0   2018-01-02     0  5963431     65   \n",
       "1   0.0   5.2           0            0   2018-01-02     5  5963422     65   \n",
       "2   0.0   5.2           0            0   2018-01-02     5  5962263     40   \n",
       "3   0.0   5.2           0            0   2018-01-02     5  5963304     40   \n",
       "4   0.5   5.8           1            0   2018-01-02     6  5961178     14   \n",
       "\n",
       "  ROUTEID  DIRECTION  PLANNEDTIME_ARR  PLANNEDTIME_DEP  ACTUALTIME_ARR  \\\n",
       "0   65_75          2          91213.0          87300.0         90458.0   \n",
       "1   65_73          1          23878.0          19800.0         24834.0   \n",
       "2   40_31          2          26069.0          21600.0         26163.0   \n",
       "3   40_31          2          25469.0          21000.0         25110.0   \n",
       "4   14_15          1          26508.0          22500.0         26011.0   \n",
       "\n",
       "   ACTUALTIME_DEP  TRIPTIME  WEEKDAY  MONTH  \n",
       "0         87314.0    3144.0        1      1  \n",
       "1         20409.0    4425.0        1      1  \n",
       "2         21589.0    4574.0        1      1  \n",
       "3         21004.0    4106.0        1      1  \n",
       "4         22497.0    3514.0        1      1  "
      ]
     },
     "execution_count": 8,
     "metadata": {},
     "output_type": "execute_result"
    }
   ],
   "source": [
    "df.head()"
   ]
  },
  {
   "cell_type": "markdown",
   "metadata": {},
   "source": [
    "Create rushhour column with values 0 (hours outside of rushour) and 1 (values inside rushhour i.e., hour value of 6-9 and 15-18)"
   ]
  },
  {
   "cell_type": "code",
   "execution_count": 9,
   "metadata": {},
   "outputs": [
    {
     "data": {
      "text/plain": [
       "array([ 0,  5,  6,  7,  8,  9, 10, 11, 12, 13, 14, 15, 16, 17, 18, 19, 20,\n",
       "       21, 22, 23,  4])"
      ]
     },
     "execution_count": 9,
     "metadata": {},
     "output_type": "execute_result"
    }
   ],
   "source": [
    "df['HOUR'].unique()"
   ]
  },
  {
   "cell_type": "code",
   "execution_count": 10,
   "metadata": {},
   "outputs": [],
   "source": [
    "# code from https://stackoverflow.com/questions/70755998/dataframe-isin-for-integers\n",
    "\n",
    "condition_rushhour = df['HOUR'].isin([6,7,8,9,15,16,17,18])\n",
    "df['RUSHHOUR'] = (condition_rushhour).astype(int)"
   ]
  },
  {
   "cell_type": "code",
   "execution_count": 11,
   "metadata": {},
   "outputs": [
    {
     "data": {
      "text/html": [
       "<div>\n",
       "<style scoped>\n",
       "    .dataframe tbody tr th:only-of-type {\n",
       "        vertical-align: middle;\n",
       "    }\n",
       "\n",
       "    .dataframe tbody tr th {\n",
       "        vertical-align: top;\n",
       "    }\n",
       "\n",
       "    .dataframe thead th {\n",
       "        text-align: right;\n",
       "    }\n",
       "</style>\n",
       "<table border=\"1\" class=\"dataframe\">\n",
       "  <thead>\n",
       "    <tr style=\"text-align: right;\">\n",
       "      <th></th>\n",
       "      <th>RAIN</th>\n",
       "      <th>TEMP</th>\n",
       "      <th>IS_RAINING</th>\n",
       "      <th>IS_FREEZING</th>\n",
       "      <th>DAYOFSERVICE</th>\n",
       "      <th>HOUR</th>\n",
       "      <th>TRIPID</th>\n",
       "      <th>LINEID</th>\n",
       "      <th>ROUTEID</th>\n",
       "      <th>DIRECTION</th>\n",
       "      <th>PLANNEDTIME_ARR</th>\n",
       "      <th>PLANNEDTIME_DEP</th>\n",
       "      <th>ACTUALTIME_ARR</th>\n",
       "      <th>ACTUALTIME_DEP</th>\n",
       "      <th>TRIPTIME</th>\n",
       "      <th>WEEKDAY</th>\n",
       "      <th>MONTH</th>\n",
       "      <th>RUSHHOUR</th>\n",
       "    </tr>\n",
       "  </thead>\n",
       "  <tbody>\n",
       "    <tr>\n",
       "      <th>0</th>\n",
       "      <td>0.0</td>\n",
       "      <td>3.8</td>\n",
       "      <td>0</td>\n",
       "      <td>0</td>\n",
       "      <td>2018-01-02</td>\n",
       "      <td>0</td>\n",
       "      <td>5963431</td>\n",
       "      <td>65</td>\n",
       "      <td>65_75</td>\n",
       "      <td>2</td>\n",
       "      <td>91213.0</td>\n",
       "      <td>87300.0</td>\n",
       "      <td>90458.0</td>\n",
       "      <td>87314.0</td>\n",
       "      <td>3144.0</td>\n",
       "      <td>1</td>\n",
       "      <td>1</td>\n",
       "      <td>0</td>\n",
       "    </tr>\n",
       "    <tr>\n",
       "      <th>1</th>\n",
       "      <td>0.0</td>\n",
       "      <td>5.2</td>\n",
       "      <td>0</td>\n",
       "      <td>0</td>\n",
       "      <td>2018-01-02</td>\n",
       "      <td>5</td>\n",
       "      <td>5963422</td>\n",
       "      <td>65</td>\n",
       "      <td>65_73</td>\n",
       "      <td>1</td>\n",
       "      <td>23878.0</td>\n",
       "      <td>19800.0</td>\n",
       "      <td>24834.0</td>\n",
       "      <td>20409.0</td>\n",
       "      <td>4425.0</td>\n",
       "      <td>1</td>\n",
       "      <td>1</td>\n",
       "      <td>0</td>\n",
       "    </tr>\n",
       "    <tr>\n",
       "      <th>2</th>\n",
       "      <td>0.0</td>\n",
       "      <td>5.2</td>\n",
       "      <td>0</td>\n",
       "      <td>0</td>\n",
       "      <td>2018-01-02</td>\n",
       "      <td>5</td>\n",
       "      <td>5962263</td>\n",
       "      <td>40</td>\n",
       "      <td>40_31</td>\n",
       "      <td>2</td>\n",
       "      <td>26069.0</td>\n",
       "      <td>21600.0</td>\n",
       "      <td>26163.0</td>\n",
       "      <td>21589.0</td>\n",
       "      <td>4574.0</td>\n",
       "      <td>1</td>\n",
       "      <td>1</td>\n",
       "      <td>0</td>\n",
       "    </tr>\n",
       "    <tr>\n",
       "      <th>3</th>\n",
       "      <td>0.0</td>\n",
       "      <td>5.2</td>\n",
       "      <td>0</td>\n",
       "      <td>0</td>\n",
       "      <td>2018-01-02</td>\n",
       "      <td>5</td>\n",
       "      <td>5963304</td>\n",
       "      <td>40</td>\n",
       "      <td>40_31</td>\n",
       "      <td>2</td>\n",
       "      <td>25469.0</td>\n",
       "      <td>21000.0</td>\n",
       "      <td>25110.0</td>\n",
       "      <td>21004.0</td>\n",
       "      <td>4106.0</td>\n",
       "      <td>1</td>\n",
       "      <td>1</td>\n",
       "      <td>0</td>\n",
       "    </tr>\n",
       "    <tr>\n",
       "      <th>4</th>\n",
       "      <td>0.5</td>\n",
       "      <td>5.8</td>\n",
       "      <td>1</td>\n",
       "      <td>0</td>\n",
       "      <td>2018-01-02</td>\n",
       "      <td>6</td>\n",
       "      <td>5961178</td>\n",
       "      <td>14</td>\n",
       "      <td>14_15</td>\n",
       "      <td>1</td>\n",
       "      <td>26508.0</td>\n",
       "      <td>22500.0</td>\n",
       "      <td>26011.0</td>\n",
       "      <td>22497.0</td>\n",
       "      <td>3514.0</td>\n",
       "      <td>1</td>\n",
       "      <td>1</td>\n",
       "      <td>1</td>\n",
       "    </tr>\n",
       "    <tr>\n",
       "      <th>...</th>\n",
       "      <td>...</td>\n",
       "      <td>...</td>\n",
       "      <td>...</td>\n",
       "      <td>...</td>\n",
       "      <td>...</td>\n",
       "      <td>...</td>\n",
       "      <td>...</td>\n",
       "      <td>...</td>\n",
       "      <td>...</td>\n",
       "      <td>...</td>\n",
       "      <td>...</td>\n",
       "      <td>...</td>\n",
       "      <td>...</td>\n",
       "      <td>...</td>\n",
       "      <td>...</td>\n",
       "      <td>...</td>\n",
       "      <td>...</td>\n",
       "      <td>...</td>\n",
       "    </tr>\n",
       "    <tr>\n",
       "      <th>688877</th>\n",
       "      <td>0.0</td>\n",
       "      <td>9.9</td>\n",
       "      <td>0</td>\n",
       "      <td>0</td>\n",
       "      <td>2018-12-31</td>\n",
       "      <td>22</td>\n",
       "      <td>8589536</td>\n",
       "      <td>120</td>\n",
       "      <td>120_12</td>\n",
       "      <td>1</td>\n",
       "      <td>80376.0</td>\n",
       "      <td>79200.0</td>\n",
       "      <td>80529.0</td>\n",
       "      <td>79202.0</td>\n",
       "      <td>1327.0</td>\n",
       "      <td>0</td>\n",
       "      <td>12</td>\n",
       "      <td>0</td>\n",
       "    </tr>\n",
       "    <tr>\n",
       "      <th>688878</th>\n",
       "      <td>0.0</td>\n",
       "      <td>9.9</td>\n",
       "      <td>0</td>\n",
       "      <td>0</td>\n",
       "      <td>2018-12-31</td>\n",
       "      <td>22</td>\n",
       "      <td>8586917</td>\n",
       "      <td>27B</td>\n",
       "      <td>27B_34</td>\n",
       "      <td>2</td>\n",
       "      <td>81049.0</td>\n",
       "      <td>78900.0</td>\n",
       "      <td>81634.0</td>\n",
       "      <td>79246.0</td>\n",
       "      <td>2388.0</td>\n",
       "      <td>0</td>\n",
       "      <td>12</td>\n",
       "      <td>0</td>\n",
       "    </tr>\n",
       "    <tr>\n",
       "      <th>688879</th>\n",
       "      <td>0.0</td>\n",
       "      <td>9.9</td>\n",
       "      <td>0</td>\n",
       "      <td>0</td>\n",
       "      <td>2018-12-31</td>\n",
       "      <td>22</td>\n",
       "      <td>8582081</td>\n",
       "      <td>32</td>\n",
       "      <td>32_58</td>\n",
       "      <td>2</td>\n",
       "      <td>81987.0</td>\n",
       "      <td>80100.0</td>\n",
       "      <td>81577.0</td>\n",
       "      <td>79482.0</td>\n",
       "      <td>2095.0</td>\n",
       "      <td>0</td>\n",
       "      <td>12</td>\n",
       "      <td>0</td>\n",
       "    </tr>\n",
       "    <tr>\n",
       "      <th>688880</th>\n",
       "      <td>0.0</td>\n",
       "      <td>9.9</td>\n",
       "      <td>0</td>\n",
       "      <td>0</td>\n",
       "      <td>2018-12-31</td>\n",
       "      <td>22</td>\n",
       "      <td>8584078</td>\n",
       "      <td>25A</td>\n",
       "      <td>25A_273</td>\n",
       "      <td>1</td>\n",
       "      <td>81636.0</td>\n",
       "      <td>79320.0</td>\n",
       "      <td>81983.0</td>\n",
       "      <td>79238.0</td>\n",
       "      <td>2745.0</td>\n",
       "      <td>0</td>\n",
       "      <td>12</td>\n",
       "      <td>0</td>\n",
       "    </tr>\n",
       "    <tr>\n",
       "      <th>688881</th>\n",
       "      <td>0.0</td>\n",
       "      <td>9.9</td>\n",
       "      <td>0</td>\n",
       "      <td>0</td>\n",
       "      <td>2018-12-31</td>\n",
       "      <td>22</td>\n",
       "      <td>8589189</td>\n",
       "      <td>40D</td>\n",
       "      <td>40D_103</td>\n",
       "      <td>2</td>\n",
       "      <td>79826.0</td>\n",
       "      <td>78000.0</td>\n",
       "      <td>81512.0</td>\n",
       "      <td>79204.0</td>\n",
       "      <td>2308.0</td>\n",
       "      <td>0</td>\n",
       "      <td>12</td>\n",
       "      <td>0</td>\n",
       "    </tr>\n",
       "  </tbody>\n",
       "</table>\n",
       "<p>688882 rows × 18 columns</p>\n",
       "</div>"
      ],
      "text/plain": [
       "        RAIN  TEMP  IS_RAINING  IS_FREEZING DAYOFSERVICE  HOUR   TRIPID  \\\n",
       "0        0.0   3.8           0            0   2018-01-02     0  5963431   \n",
       "1        0.0   5.2           0            0   2018-01-02     5  5963422   \n",
       "2        0.0   5.2           0            0   2018-01-02     5  5962263   \n",
       "3        0.0   5.2           0            0   2018-01-02     5  5963304   \n",
       "4        0.5   5.8           1            0   2018-01-02     6  5961178   \n",
       "...      ...   ...         ...          ...          ...   ...      ...   \n",
       "688877   0.0   9.9           0            0   2018-12-31    22  8589536   \n",
       "688878   0.0   9.9           0            0   2018-12-31    22  8586917   \n",
       "688879   0.0   9.9           0            0   2018-12-31    22  8582081   \n",
       "688880   0.0   9.9           0            0   2018-12-31    22  8584078   \n",
       "688881   0.0   9.9           0            0   2018-12-31    22  8589189   \n",
       "\n",
       "       LINEID  ROUTEID  DIRECTION  PLANNEDTIME_ARR  PLANNEDTIME_DEP  \\\n",
       "0          65    65_75          2          91213.0          87300.0   \n",
       "1          65    65_73          1          23878.0          19800.0   \n",
       "2          40    40_31          2          26069.0          21600.0   \n",
       "3          40    40_31          2          25469.0          21000.0   \n",
       "4          14    14_15          1          26508.0          22500.0   \n",
       "...       ...      ...        ...              ...              ...   \n",
       "688877    120   120_12          1          80376.0          79200.0   \n",
       "688878    27B   27B_34          2          81049.0          78900.0   \n",
       "688879     32    32_58          2          81987.0          80100.0   \n",
       "688880    25A  25A_273          1          81636.0          79320.0   \n",
       "688881    40D  40D_103          2          79826.0          78000.0   \n",
       "\n",
       "        ACTUALTIME_ARR  ACTUALTIME_DEP  TRIPTIME  WEEKDAY  MONTH  RUSHHOUR  \n",
       "0              90458.0         87314.0    3144.0        1      1         0  \n",
       "1              24834.0         20409.0    4425.0        1      1         0  \n",
       "2              26163.0         21589.0    4574.0        1      1         0  \n",
       "3              25110.0         21004.0    4106.0        1      1         0  \n",
       "4              26011.0         22497.0    3514.0        1      1         1  \n",
       "...                ...             ...       ...      ...    ...       ...  \n",
       "688877         80529.0         79202.0    1327.0        0     12         0  \n",
       "688878         81634.0         79246.0    2388.0        0     12         0  \n",
       "688879         81577.0         79482.0    2095.0        0     12         0  \n",
       "688880         81983.0         79238.0    2745.0        0     12         0  \n",
       "688881         81512.0         79204.0    2308.0        0     12         0  \n",
       "\n",
       "[688882 rows x 18 columns]"
      ]
     },
     "execution_count": 11,
     "metadata": {},
     "output_type": "execute_result"
    }
   ],
   "source": [
    "df"
   ]
  },
  {
   "cell_type": "markdown",
   "metadata": {},
   "source": [
    "#### Drop unnecessary columns\n",
    "We can now drop the following columns from the dataframe as they provide no additional information or the information required has been extracted from them.\n",
    "* DAYOFSERVICE\n",
    "* PLANNEDTIME_ARR\n",
    "* PLANNEDTIME_DEP\n",
    "* ACTUALTIME_ARR\n",
    "* ACTUALTIME_DEP"
   ]
  },
  {
   "cell_type": "code",
   "execution_count": 12,
   "metadata": {},
   "outputs": [],
   "source": [
    "# drop unnecessary columns\n",
    "df.drop(columns=['DAYOFSERVICE','PLANNEDTIME_ARR','PLANNEDTIME_DEP','ACTUALTIME_ARR','ACTUALTIME_DEP'], inplace=True)"
   ]
  },
  {
   "cell_type": "code",
   "execution_count": 13,
   "metadata": {},
   "outputs": [
    {
     "name": "stdout",
     "output_type": "stream",
     "text": [
      "<class 'pandas.core.frame.DataFrame'>\n",
      "RangeIndex: 688882 entries, 0 to 688881\n",
      "Data columns (total 13 columns):\n",
      " #   Column       Non-Null Count   Dtype  \n",
      "---  ------       --------------   -----  \n",
      " 0   RAIN         688882 non-null  float64\n",
      " 1   TEMP         688882 non-null  float64\n",
      " 2   IS_RAINING   688882 non-null  int64  \n",
      " 3   IS_FREEZING  688882 non-null  int64  \n",
      " 4   HOUR         688882 non-null  int64  \n",
      " 5   TRIPID       688882 non-null  int64  \n",
      " 6   LINEID       688882 non-null  object \n",
      " 7   ROUTEID      688882 non-null  object \n",
      " 8   DIRECTION    688882 non-null  int64  \n",
      " 9   TRIPTIME     688882 non-null  float64\n",
      " 10  WEEKDAY      688882 non-null  int64  \n",
      " 11  MONTH        688882 non-null  int64  \n",
      " 12  RUSHHOUR     688882 non-null  int64  \n",
      "dtypes: float64(3), int64(8), object(2)\n",
      "memory usage: 68.3+ MB\n"
     ]
    }
   ],
   "source": [
    "df.info()"
   ]
  },
  {
   "cell_type": "markdown",
   "metadata": {},
   "source": [
    "## Review and prep"
   ]
  },
  {
   "cell_type": "code",
   "execution_count": 14,
   "metadata": {},
   "outputs": [
    {
     "data": {
      "text/plain": [
       "RAIN           0\n",
       "TEMP           0\n",
       "IS_RAINING     0\n",
       "IS_FREEZING    0\n",
       "HOUR           0\n",
       "TRIPID         0\n",
       "LINEID         0\n",
       "ROUTEID        0\n",
       "DIRECTION      0\n",
       "TRIPTIME       0\n",
       "WEEKDAY        0\n",
       "MONTH          0\n",
       "RUSHHOUR       0\n",
       "dtype: int64"
      ]
     },
     "execution_count": 14,
     "metadata": {},
     "output_type": "execute_result"
    }
   ],
   "source": [
    "df.isna().sum()"
   ]
  },
  {
   "cell_type": "code",
   "execution_count": 15,
   "metadata": {},
   "outputs": [
    {
     "data": {
      "text/plain": [
       "RAIN           float64\n",
       "TEMP           float64\n",
       "IS_RAINING       int64\n",
       "IS_FREEZING      int64\n",
       "HOUR             int64\n",
       "TRIPID           int64\n",
       "LINEID          object\n",
       "ROUTEID         object\n",
       "DIRECTION        int64\n",
       "TRIPTIME       float64\n",
       "WEEKDAY          int64\n",
       "MONTH            int64\n",
       "RUSHHOUR         int64\n",
       "dtype: object"
      ]
     },
     "execution_count": 15,
     "metadata": {},
     "output_type": "execute_result"
    }
   ],
   "source": [
    "df.dtypes"
   ]
  },
  {
   "cell_type": "code",
   "execution_count": 18,
   "metadata": {},
   "outputs": [
    {
     "data": {
      "text/plain": [
       "RAIN            float64\n",
       "TEMP            float64\n",
       "IS_RAINING     category\n",
       "IS_FREEZING    category\n",
       "HOUR           category\n",
       "TRIPID         category\n",
       "LINEID         category\n",
       "ROUTEID        category\n",
       "DIRECTION      category\n",
       "TRIPTIME        float64\n",
       "WEEKDAY        category\n",
       "MONTH          category\n",
       "RUSHHOUR       category\n",
       "dtype: object"
      ]
     },
     "execution_count": 18,
     "metadata": {},
     "output_type": "execute_result"
    }
   ],
   "source": [
    "categorical_cols = df.select_dtypes(['object']).columns\n",
    "categorical_cols = categorical_cols.append(df[['IS_RAINING','IS_FREEZING','HOUR','TRIPID', 'DIRECTION', 'WEEKDAY', 'MONTH', 'RUSHHOUR']].columns)\n",
    "# convert columns in the list to categorical columns\n",
    "for col in categorical_cols:\n",
    "    df[col] = df[col].astype('category')\n",
    "df.dtypes"
   ]
  },
  {
   "cell_type": "code",
   "execution_count": 19,
   "metadata": {},
   "outputs": [
    {
     "data": {
      "text/html": [
       "<div>\n",
       "<style scoped>\n",
       "    .dataframe tbody tr th:only-of-type {\n",
       "        vertical-align: middle;\n",
       "    }\n",
       "\n",
       "    .dataframe tbody tr th {\n",
       "        vertical-align: top;\n",
       "    }\n",
       "\n",
       "    .dataframe thead th {\n",
       "        text-align: right;\n",
       "    }\n",
       "</style>\n",
       "<table border=\"1\" class=\"dataframe\">\n",
       "  <thead>\n",
       "    <tr style=\"text-align: right;\">\n",
       "      <th></th>\n",
       "      <th>count</th>\n",
       "      <th>mean</th>\n",
       "      <th>std</th>\n",
       "      <th>min</th>\n",
       "      <th>25%</th>\n",
       "      <th>50%</th>\n",
       "      <th>75%</th>\n",
       "      <th>max</th>\n",
       "    </tr>\n",
       "  </thead>\n",
       "  <tbody>\n",
       "    <tr>\n",
       "      <th>RAIN</th>\n",
       "      <td>688882.0</td>\n",
       "      <td>0.053168</td>\n",
       "      <td>0.289991</td>\n",
       "      <td>0.0</td>\n",
       "      <td>0.0</td>\n",
       "      <td>0.0</td>\n",
       "      <td>0.0</td>\n",
       "      <td>8.6</td>\n",
       "    </tr>\n",
       "    <tr>\n",
       "      <th>TEMP</th>\n",
       "      <td>688882.0</td>\n",
       "      <td>11.398091</td>\n",
       "      <td>5.763468</td>\n",
       "      <td>-3.0</td>\n",
       "      <td>7.1</td>\n",
       "      <td>11.1</td>\n",
       "      <td>15.7</td>\n",
       "      <td>27.5</td>\n",
       "    </tr>\n",
       "    <tr>\n",
       "      <th>TRIPTIME</th>\n",
       "      <td>688882.0</td>\n",
       "      <td>3838.757487</td>\n",
       "      <td>1431.441611</td>\n",
       "      <td>-7139.0</td>\n",
       "      <td>2789.0</td>\n",
       "      <td>3753.0</td>\n",
       "      <td>4826.0</td>\n",
       "      <td>17375.0</td>\n",
       "    </tr>\n",
       "  </tbody>\n",
       "</table>\n",
       "</div>"
      ],
      "text/plain": [
       "             count         mean          std     min     25%     50%     75%  \\\n",
       "RAIN      688882.0     0.053168     0.289991     0.0     0.0     0.0     0.0   \n",
       "TEMP      688882.0    11.398091     5.763468    -3.0     7.1    11.1    15.7   \n",
       "TRIPTIME  688882.0  3838.757487  1431.441611 -7139.0  2789.0  3753.0  4826.0   \n",
       "\n",
       "              max  \n",
       "RAIN          8.6  \n",
       "TEMP         27.5  \n",
       "TRIPTIME  17375.0  "
      ]
     },
     "execution_count": 19,
     "metadata": {},
     "output_type": "execute_result"
    }
   ],
   "source": [
    "df.describe().T "
   ]
  },
  {
   "cell_type": "code",
   "execution_count": 20,
   "metadata": {},
   "outputs": [],
   "source": [
    "continuous_cols = df.select_dtypes(['float64']).columns"
   ]
  },
  {
   "cell_type": "code",
   "execution_count": 21,
   "metadata": {},
   "outputs": [
    {
     "data": {
      "text/plain": [
       "False    688882\n",
       "dtype: int64"
      ]
     },
     "execution_count": 21,
     "metadata": {},
     "output_type": "execute_result"
    }
   ],
   "source": [
    "df.duplicated().value_counts()"
   ]
  },
  {
   "cell_type": "code",
   "execution_count": 22,
   "metadata": {},
   "outputs": [
    {
     "data": {
      "text/plain": [
       "RAIN               34\n",
       "TEMP              288\n",
       "IS_RAINING          2\n",
       "IS_FREEZING         2\n",
       "HOUR               21\n",
       "TRIPID         358406\n",
       "LINEID            130\n",
       "ROUTEID           583\n",
       "DIRECTION           2\n",
       "TRIPTIME         8666\n",
       "WEEKDAY             7\n",
       "MONTH              12\n",
       "RUSHHOUR            2\n",
       "dtype: int64"
      ]
     },
     "execution_count": 22,
     "metadata": {},
     "output_type": "execute_result"
    }
   ],
   "source": [
    "df.nunique()"
   ]
  },
  {
   "cell_type": "code",
   "execution_count": 23,
   "metadata": {},
   "outputs": [
    {
     "data": {
      "text/plain": [
       "40"
      ]
     },
     "execution_count": 23,
     "metadata": {},
     "output_type": "execute_result"
    }
   ],
   "source": [
    "# check logical integrity of data\n",
    "# Check for negative triptimes\n",
    "negative_triptimes = list(df[df['TRIPTIME']<0]['TRIPID'])\n",
    "len(negative_triptimes)"
   ]
  },
  {
   "cell_type": "code",
   "execution_count": 27,
   "metadata": {},
   "outputs": [],
   "source": [
    "df = df.drop(df[df['TRIPTIME']<0].index)"
   ]
  },
  {
   "cell_type": "code",
   "execution_count": 28,
   "metadata": {},
   "outputs": [
    {
     "name": "stdout",
     "output_type": "stream",
     "text": [
      "<class 'pandas.core.frame.DataFrame'>\n",
      "Int64Index: 688842 entries, 0 to 688881\n",
      "Data columns (total 13 columns):\n",
      " #   Column       Non-Null Count   Dtype   \n",
      "---  ------       --------------   -----   \n",
      " 0   RAIN         688842 non-null  float64 \n",
      " 1   TEMP         688842 non-null  float64 \n",
      " 2   IS_RAINING   688842 non-null  category\n",
      " 3   IS_FREEZING  688842 non-null  category\n",
      " 4   HOUR         688842 non-null  category\n",
      " 5   TRIPID       688842 non-null  category\n",
      " 6   LINEID       688842 non-null  category\n",
      " 7   ROUTEID      688842 non-null  category\n",
      " 8   DIRECTION    688842 non-null  category\n",
      " 9   TRIPTIME     688842 non-null  float64 \n",
      " 10  WEEKDAY      688842 non-null  category\n",
      " 11  MONTH        688842 non-null  category\n",
      " 12  RUSHHOUR     688842 non-null  category\n",
      "dtypes: category(10), float64(3)\n",
      "memory usage: 41.7 MB\n"
     ]
    }
   ],
   "source": [
    "df.info()"
   ]
  },
  {
   "cell_type": "code",
   "execution_count": 34,
   "metadata": {},
   "outputs": [],
   "source": [
    "# reordering the features to make the dataframe more intuitive\n",
    "df = df[['TRIPID','LINEID','ROUTEID','DIRECTION','WEEKDAY','HOUR','MONTH','TRIPTIME','RUSHHOUR','RAIN','TEMP','IS_RAINING','IS_FREEZING']]"
   ]
  },
  {
   "cell_type": "code",
   "execution_count": 35,
   "metadata": {},
   "outputs": [
    {
     "name": "stdout",
     "output_type": "stream",
     "text": [
      "<class 'pandas.core.frame.DataFrame'>\n",
      "Int64Index: 688842 entries, 0 to 688881\n",
      "Data columns (total 13 columns):\n",
      " #   Column       Non-Null Count   Dtype   \n",
      "---  ------       --------------   -----   \n",
      " 0   TRIPID       688842 non-null  category\n",
      " 1   LINEID       688842 non-null  category\n",
      " 2   ROUTEID      688842 non-null  category\n",
      " 3   DIRECTION    688842 non-null  category\n",
      " 4   WEEKDAY      688842 non-null  category\n",
      " 5   HOUR         688842 non-null  category\n",
      " 6   MONTH        688842 non-null  category\n",
      " 7   TRIPTIME     688842 non-null  float64 \n",
      " 8   RUSHHOUR     688842 non-null  category\n",
      " 9   RAIN         688842 non-null  float64 \n",
      " 10  TEMP         688842 non-null  float64 \n",
      " 11  IS_RAINING   688842 non-null  category\n",
      " 12  IS_FREEZING  688842 non-null  category\n",
      "dtypes: category(10), float64(3)\n",
      "memory usage: 41.7 MB\n"
     ]
    }
   ],
   "source": [
    "df.info()"
   ]
  },
  {
   "cell_type": "code",
   "execution_count": 36,
   "metadata": {},
   "outputs": [],
   "source": [
    "df.to_csv('cleaned_merged_weather_trips.csv', index=False)"
   ]
  }
 ],
 "metadata": {
  "interpreter": {
   "hash": "7699efb4af24be428a0b5648dfa7aba129b905e3165e555843cf88f6106e2e55"
  },
  "kernelspec": {
   "display_name": "Python 3.8.13 ('rp22')",
   "language": "python",
   "name": "python3"
  },
  "language_info": {
   "codemirror_mode": {
    "name": "ipython",
    "version": 3
   },
   "file_extension": ".py",
   "mimetype": "text/x-python",
   "name": "python",
   "nbconvert_exporter": "python",
   "pygments_lexer": "ipython3",
   "version": "3.8.13"
  },
  "orig_nbformat": 4
 },
 "nbformat": 4,
 "nbformat_minor": 2
}
