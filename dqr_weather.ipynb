{
 "cells": [
  {
   "cell_type": "markdown",
   "metadata": {},
   "source": [
    "# Introduction\n",
    "Before beginning the data quality report I import the data set and remove all rows which contain weather data outside of the required time period (i.e., the year 2018). Although this could have been completed later, it meant that the dataset was dramatically reduced in size and therefore quicker and easier to work with throughout the DQR."
   ]
  },
  {
   "cell_type": "markdown",
   "metadata": {},
   "source": [
    "Station Name: PHOENIX PARK\n",
    "Station Height: 48 M \n",
    "Latitude:53.364  ,Longitude: -6.350\n",
    "|Feature|Description|Unit|\n",
    "|---|---|---|\n",
    "|date|Date and Time| utc|\n",
    "|rain|Precipitation Amount| mm|\t  \n",
    "|temp|Air Temperature| C|\n",
    "|wetb|Wet Bulb Temperature|C|\n",
    "|dewpt|Dew Point Temperature|C|\n",
    "|vappr|Vapour Pressure|hPa|\t                 \n",
    "|rhum|Relative Humidity|%|\n",
    "|msl|Mean Sea Level Pressure|hPa|\n",
    "|ind|Indicator|"
   ]
  },
  {
   "cell_type": "code",
   "execution_count": 60,
   "metadata": {},
   "outputs": [],
   "source": [
    "import pandas as pd\n",
    "import numpy as np\n",
    "import json\n",
    "import requests\n",
    "import matplotlib.pyplot as plt\n",
    "import matplotlib.patches as mpatches\n",
    "from matplotlib.backends.backend_pdf import PdfPages"
   ]
  },
  {
   "cell_type": "code",
   "execution_count": 61,
   "metadata": {},
   "outputs": [
    {
     "name": "stderr",
     "output_type": "stream",
     "text": [
      "/var/folders/b8/mkp1mnts2_7g_cxc88x2gdmc0000gn/T/ipykernel_32732/1273108153.py:1: DtypeWarning: Columns (2,4,6,7,8,9,10) have mixed types. Specify dtype option on import or set low_memory=False.\n",
      "  df = pd.read_csv('data/raw_data/met-2018.csv', parse_dates=[0])\n"
     ]
    }
   ],
   "source": [
    "df = pd.read_csv('data/raw_data/met-2018.csv', parse_dates=[0])"
   ]
  },
  {
   "cell_type": "code",
   "execution_count": 62,
   "metadata": {},
   "outputs": [
    {
     "data": {
      "text/html": [
       "<div>\n",
       "<style scoped>\n",
       "    .dataframe tbody tr th:only-of-type {\n",
       "        vertical-align: middle;\n",
       "    }\n",
       "\n",
       "    .dataframe tbody tr th {\n",
       "        vertical-align: top;\n",
       "    }\n",
       "\n",
       "    .dataframe thead th {\n",
       "        text-align: right;\n",
       "    }\n",
       "</style>\n",
       "<table border=\"1\" class=\"dataframe\">\n",
       "  <thead>\n",
       "    <tr style=\"text-align: right;\">\n",
       "      <th></th>\n",
       "      <th>date</th>\n",
       "      <th>ind</th>\n",
       "      <th>rain</th>\n",
       "      <th>ind.1</th>\n",
       "      <th>temp</th>\n",
       "      <th>ind.2</th>\n",
       "      <th>wetb</th>\n",
       "      <th>dewpt</th>\n",
       "      <th>vappr</th>\n",
       "      <th>rhum</th>\n",
       "      <th>msl</th>\n",
       "    </tr>\n",
       "  </thead>\n",
       "  <tbody>\n",
       "    <tr>\n",
       "      <th>0</th>\n",
       "      <td>2003-08-16 01:00:00</td>\n",
       "      <td>0</td>\n",
       "      <td>0.0</td>\n",
       "      <td>0</td>\n",
       "      <td>9.2</td>\n",
       "      <td>0</td>\n",
       "      <td>8.9</td>\n",
       "      <td>8.5</td>\n",
       "      <td>11.1</td>\n",
       "      <td>95</td>\n",
       "      <td>1021.9</td>\n",
       "    </tr>\n",
       "    <tr>\n",
       "      <th>1</th>\n",
       "      <td>2003-08-16 02:00:00</td>\n",
       "      <td>0</td>\n",
       "      <td>0.0</td>\n",
       "      <td>0</td>\n",
       "      <td>9.0</td>\n",
       "      <td>0</td>\n",
       "      <td>8.7</td>\n",
       "      <td>8.5</td>\n",
       "      <td>11.1</td>\n",
       "      <td>96</td>\n",
       "      <td>1021.7</td>\n",
       "    </tr>\n",
       "    <tr>\n",
       "      <th>2</th>\n",
       "      <td>2003-08-16 03:00:00</td>\n",
       "      <td>0</td>\n",
       "      <td>0.0</td>\n",
       "      <td>0</td>\n",
       "      <td>8.2</td>\n",
       "      <td>0</td>\n",
       "      <td>8.0</td>\n",
       "      <td>7.7</td>\n",
       "      <td>10.5</td>\n",
       "      <td>96</td>\n",
       "      <td>1021.2</td>\n",
       "    </tr>\n",
       "    <tr>\n",
       "      <th>3</th>\n",
       "      <td>2003-08-16 04:00:00</td>\n",
       "      <td>0</td>\n",
       "      <td>0.0</td>\n",
       "      <td>0</td>\n",
       "      <td>8.4</td>\n",
       "      <td>0</td>\n",
       "      <td>8.1</td>\n",
       "      <td>7.9</td>\n",
       "      <td>10.7</td>\n",
       "      <td>97</td>\n",
       "      <td>1021.2</td>\n",
       "    </tr>\n",
       "    <tr>\n",
       "      <th>4</th>\n",
       "      <td>2003-08-16 05:00:00</td>\n",
       "      <td>0</td>\n",
       "      <td>0.0</td>\n",
       "      <td>0</td>\n",
       "      <td>7.7</td>\n",
       "      <td>0</td>\n",
       "      <td>7.5</td>\n",
       "      <td>7.3</td>\n",
       "      <td>10.2</td>\n",
       "      <td>97</td>\n",
       "      <td>1021.1</td>\n",
       "    </tr>\n",
       "  </tbody>\n",
       "</table>\n",
       "</div>"
      ],
      "text/plain": [
       "                 date  ind rain  ind.1 temp  ind.2 wetb dewpt vappr rhum  \\\n",
       "0 2003-08-16 01:00:00    0  0.0      0  9.2      0  8.9   8.5  11.1   95   \n",
       "1 2003-08-16 02:00:00    0  0.0      0  9.0      0  8.7   8.5  11.1   96   \n",
       "2 2003-08-16 03:00:00    0  0.0      0  8.2      0  8.0   7.7  10.5   96   \n",
       "3 2003-08-16 04:00:00    0  0.0      0  8.4      0  8.1   7.9  10.7   97   \n",
       "4 2003-08-16 05:00:00    0  0.0      0  7.7      0  7.5   7.3  10.2   97   \n",
       "\n",
       "      msl  \n",
       "0  1021.9  \n",
       "1  1021.7  \n",
       "2  1021.2  \n",
       "3  1021.2  \n",
       "4  1021.1  "
      ]
     },
     "execution_count": 62,
     "metadata": {},
     "output_type": "execute_result"
    }
   ],
   "source": [
    "df.head()"
   ]
  },
  {
   "cell_type": "code",
   "execution_count": 63,
   "metadata": {},
   "outputs": [],
   "source": [
    "# drop rows not in 2018\n",
    "# https://sparkbyexamples.com/pandas/pandas-delete-rows-based-on-column-value/\n",
    "df.drop(df[df['date'].dt.year != 2018].index, inplace=True)"
   ]
  },
  {
   "cell_type": "code",
   "execution_count": 64,
   "metadata": {},
   "outputs": [
    {
     "name": "stdout",
     "output_type": "stream",
     "text": [
      "<class 'pandas.core.frame.DataFrame'>\n",
      "Int64Index: 8760 entries, 126047 to 134806\n",
      "Data columns (total 11 columns):\n",
      " #   Column  Non-Null Count  Dtype         \n",
      "---  ------  --------------  -----         \n",
      " 0   date    8760 non-null   datetime64[ns]\n",
      " 1   ind     8760 non-null   int64         \n",
      " 2   rain    8760 non-null   object        \n",
      " 3   ind.1   8760 non-null   int64         \n",
      " 4   temp    8760 non-null   object        \n",
      " 5   ind.2   8760 non-null   int64         \n",
      " 6   wetb    8760 non-null   object        \n",
      " 7   dewpt   8760 non-null   object        \n",
      " 8   vappr   8760 non-null   object        \n",
      " 9   rhum    8760 non-null   object        \n",
      " 10  msl     8760 non-null   object        \n",
      "dtypes: datetime64[ns](1), int64(3), object(7)\n",
      "memory usage: 821.2+ KB\n"
     ]
    }
   ],
   "source": [
    "df.info()"
   ]
  },
  {
   "cell_type": "code",
   "execution_count": 65,
   "metadata": {},
   "outputs": [],
   "source": [
    "df.to_csv('data/met-2018-data.csv', index=False)"
   ]
  },
  {
   "cell_type": "markdown",
   "metadata": {},
   "source": [
    "Decided to use the data.gov weather data as the openweather api does not contain 'rain' fields if there is no rain, which means there is more work required to use this data set."
   ]
  },
  {
   "cell_type": "code",
   "execution_count": 66,
   "metadata": {},
   "outputs": [
    {
     "data": {
      "text/html": [
       "<div>\n",
       "<style scoped>\n",
       "    .dataframe tbody tr th:only-of-type {\n",
       "        vertical-align: middle;\n",
       "    }\n",
       "\n",
       "    .dataframe tbody tr th {\n",
       "        vertical-align: top;\n",
       "    }\n",
       "\n",
       "    .dataframe thead th {\n",
       "        text-align: right;\n",
       "    }\n",
       "</style>\n",
       "<table border=\"1\" class=\"dataframe\">\n",
       "  <thead>\n",
       "    <tr style=\"text-align: right;\">\n",
       "      <th></th>\n",
       "      <th>index</th>\n",
       "      <th>date</th>\n",
       "      <th>ind</th>\n",
       "      <th>rain</th>\n",
       "      <th>ind.1</th>\n",
       "      <th>temp</th>\n",
       "      <th>ind.2</th>\n",
       "      <th>wetb</th>\n",
       "      <th>dewpt</th>\n",
       "      <th>vappr</th>\n",
       "      <th>rhum</th>\n",
       "      <th>msl</th>\n",
       "    </tr>\n",
       "  </thead>\n",
       "  <tbody>\n",
       "    <tr>\n",
       "      <th>0</th>\n",
       "      <td>126047</td>\n",
       "      <td>2018-01-01 00:00:00</td>\n",
       "      <td>0</td>\n",
       "      <td>0.0</td>\n",
       "      <td>0</td>\n",
       "      <td>4.6</td>\n",
       "      <td>0</td>\n",
       "      <td>3.5</td>\n",
       "      <td>1.8</td>\n",
       "      <td>6.9</td>\n",
       "      <td>82</td>\n",
       "      <td>991.0</td>\n",
       "    </tr>\n",
       "    <tr>\n",
       "      <th>1</th>\n",
       "      <td>126048</td>\n",
       "      <td>2018-01-01 01:00:00</td>\n",
       "      <td>0</td>\n",
       "      <td>0.1</td>\n",
       "      <td>0</td>\n",
       "      <td>4.7</td>\n",
       "      <td>0</td>\n",
       "      <td>3.6</td>\n",
       "      <td>1.8</td>\n",
       "      <td>7.0</td>\n",
       "      <td>81</td>\n",
       "      <td>991.1</td>\n",
       "    </tr>\n",
       "    <tr>\n",
       "      <th>2</th>\n",
       "      <td>126049</td>\n",
       "      <td>2018-01-01 02:00:00</td>\n",
       "      <td>0</td>\n",
       "      <td>0.0</td>\n",
       "      <td>0</td>\n",
       "      <td>4.8</td>\n",
       "      <td>0</td>\n",
       "      <td>3.7</td>\n",
       "      <td>1.9</td>\n",
       "      <td>7.0</td>\n",
       "      <td>81</td>\n",
       "      <td>991.1</td>\n",
       "    </tr>\n",
       "    <tr>\n",
       "      <th>3</th>\n",
       "      <td>126050</td>\n",
       "      <td>2018-01-01 03:00:00</td>\n",
       "      <td>0</td>\n",
       "      <td>0.0</td>\n",
       "      <td>0</td>\n",
       "      <td>4.9</td>\n",
       "      <td>0</td>\n",
       "      <td>3.8</td>\n",
       "      <td>2.2</td>\n",
       "      <td>7.2</td>\n",
       "      <td>82</td>\n",
       "      <td>990.7</td>\n",
       "    </tr>\n",
       "    <tr>\n",
       "      <th>4</th>\n",
       "      <td>126051</td>\n",
       "      <td>2018-01-01 04:00:00</td>\n",
       "      <td>0</td>\n",
       "      <td>0.0</td>\n",
       "      <td>0</td>\n",
       "      <td>5.3</td>\n",
       "      <td>0</td>\n",
       "      <td>4.1</td>\n",
       "      <td>2.3</td>\n",
       "      <td>7.2</td>\n",
       "      <td>81</td>\n",
       "      <td>990.3</td>\n",
       "    </tr>\n",
       "    <tr>\n",
       "      <th>...</th>\n",
       "      <td>...</td>\n",
       "      <td>...</td>\n",
       "      <td>...</td>\n",
       "      <td>...</td>\n",
       "      <td>...</td>\n",
       "      <td>...</td>\n",
       "      <td>...</td>\n",
       "      <td>...</td>\n",
       "      <td>...</td>\n",
       "      <td>...</td>\n",
       "      <td>...</td>\n",
       "      <td>...</td>\n",
       "    </tr>\n",
       "    <tr>\n",
       "      <th>8755</th>\n",
       "      <td>134802</td>\n",
       "      <td>2018-12-31 19:00:00</td>\n",
       "      <td>0</td>\n",
       "      <td>0.0</td>\n",
       "      <td>0</td>\n",
       "      <td>9.9</td>\n",
       "      <td>0</td>\n",
       "      <td>7.9</td>\n",
       "      <td>5.5</td>\n",
       "      <td>9.0</td>\n",
       "      <td>74</td>\n",
       "      <td>1034.9</td>\n",
       "    </tr>\n",
       "    <tr>\n",
       "      <th>8756</th>\n",
       "      <td>134803</td>\n",
       "      <td>2018-12-31 20:00:00</td>\n",
       "      <td>0</td>\n",
       "      <td>0.0</td>\n",
       "      <td>0</td>\n",
       "      <td>9.9</td>\n",
       "      <td>0</td>\n",
       "      <td>8.0</td>\n",
       "      <td>5.8</td>\n",
       "      <td>9.2</td>\n",
       "      <td>75</td>\n",
       "      <td>1035.0</td>\n",
       "    </tr>\n",
       "    <tr>\n",
       "      <th>8757</th>\n",
       "      <td>134804</td>\n",
       "      <td>2018-12-31 21:00:00</td>\n",
       "      <td>0</td>\n",
       "      <td>0.0</td>\n",
       "      <td>0</td>\n",
       "      <td>9.9</td>\n",
       "      <td>0</td>\n",
       "      <td>7.9</td>\n",
       "      <td>5.7</td>\n",
       "      <td>9.1</td>\n",
       "      <td>75</td>\n",
       "      <td>1035.0</td>\n",
       "    </tr>\n",
       "    <tr>\n",
       "      <th>8758</th>\n",
       "      <td>134805</td>\n",
       "      <td>2018-12-31 22:00:00</td>\n",
       "      <td>0</td>\n",
       "      <td>0.0</td>\n",
       "      <td>0</td>\n",
       "      <td>9.9</td>\n",
       "      <td>0</td>\n",
       "      <td>8.0</td>\n",
       "      <td>5.9</td>\n",
       "      <td>9.3</td>\n",
       "      <td>76</td>\n",
       "      <td>1035.1</td>\n",
       "    </tr>\n",
       "    <tr>\n",
       "      <th>8759</th>\n",
       "      <td>134806</td>\n",
       "      <td>2018-12-31 23:00:00</td>\n",
       "      <td>0</td>\n",
       "      <td>0.0</td>\n",
       "      <td>0</td>\n",
       "      <td>9.8</td>\n",
       "      <td>0</td>\n",
       "      <td>7.9</td>\n",
       "      <td>5.7</td>\n",
       "      <td>9.1</td>\n",
       "      <td>75</td>\n",
       "      <td>1035.2</td>\n",
       "    </tr>\n",
       "  </tbody>\n",
       "</table>\n",
       "<p>8760 rows × 12 columns</p>\n",
       "</div>"
      ],
      "text/plain": [
       "       index                date  ind rain  ind.1 temp  ind.2 wetb dewpt  \\\n",
       "0     126047 2018-01-01 00:00:00    0  0.0      0  4.6      0  3.5   1.8   \n",
       "1     126048 2018-01-01 01:00:00    0  0.1      0  4.7      0  3.6   1.8   \n",
       "2     126049 2018-01-01 02:00:00    0  0.0      0  4.8      0  3.7   1.9   \n",
       "3     126050 2018-01-01 03:00:00    0  0.0      0  4.9      0  3.8   2.2   \n",
       "4     126051 2018-01-01 04:00:00    0  0.0      0  5.3      0  4.1   2.3   \n",
       "...      ...                 ...  ...  ...    ...  ...    ...  ...   ...   \n",
       "8755  134802 2018-12-31 19:00:00    0  0.0      0  9.9      0  7.9   5.5   \n",
       "8756  134803 2018-12-31 20:00:00    0  0.0      0  9.9      0  8.0   5.8   \n",
       "8757  134804 2018-12-31 21:00:00    0  0.0      0  9.9      0  7.9   5.7   \n",
       "8758  134805 2018-12-31 22:00:00    0  0.0      0  9.9      0  8.0   5.9   \n",
       "8759  134806 2018-12-31 23:00:00    0  0.0      0  9.8      0  7.9   5.7   \n",
       "\n",
       "     vappr rhum     msl  \n",
       "0      6.9   82   991.0  \n",
       "1      7.0   81   991.1  \n",
       "2      7.0   81   991.1  \n",
       "3      7.2   82   990.7  \n",
       "4      7.2   81   990.3  \n",
       "...    ...  ...     ...  \n",
       "8755   9.0   74  1034.9  \n",
       "8756   9.2   75  1035.0  \n",
       "8757   9.1   75  1035.0  \n",
       "8758   9.3   76  1035.1  \n",
       "8759   9.1   75  1035.2  \n",
       "\n",
       "[8760 rows x 12 columns]"
      ]
     },
     "execution_count": 66,
     "metadata": {},
     "output_type": "execute_result"
    }
   ],
   "source": [
    "df.reset_index()"
   ]
  },
  {
   "cell_type": "code",
   "execution_count": 67,
   "metadata": {},
   "outputs": [
    {
     "data": {
      "text/plain": [
       "date     datetime64[ns]\n",
       "ind               int64\n",
       "rain             object\n",
       "ind.1             int64\n",
       "temp             object\n",
       "ind.2             int64\n",
       "wetb             object\n",
       "dewpt            object\n",
       "vappr            object\n",
       "rhum             object\n",
       "msl              object\n",
       "dtype: object"
      ]
     },
     "execution_count": 67,
     "metadata": {},
     "output_type": "execute_result"
    }
   ],
   "source": [
    "# check the data types of the columns\n",
    "df.dtypes"
   ]
  },
  {
   "cell_type": "code",
   "execution_count": 68,
   "metadata": {},
   "outputs": [
    {
     "data": {
      "text/html": [
       "<div>\n",
       "<style scoped>\n",
       "    .dataframe tbody tr th:only-of-type {\n",
       "        vertical-align: middle;\n",
       "    }\n",
       "\n",
       "    .dataframe tbody tr th {\n",
       "        vertical-align: top;\n",
       "    }\n",
       "\n",
       "    .dataframe thead th {\n",
       "        text-align: right;\n",
       "    }\n",
       "</style>\n",
       "<table border=\"1\" class=\"dataframe\">\n",
       "  <thead>\n",
       "    <tr style=\"text-align: right;\">\n",
       "      <th></th>\n",
       "      <th>count</th>\n",
       "      <th>mean</th>\n",
       "      <th>min</th>\n",
       "      <th>25%</th>\n",
       "      <th>50%</th>\n",
       "      <th>75%</th>\n",
       "      <th>max</th>\n",
       "      <th>std</th>\n",
       "    </tr>\n",
       "  </thead>\n",
       "  <tbody>\n",
       "    <tr>\n",
       "      <th>date</th>\n",
       "      <td>8760</td>\n",
       "      <td>2018-07-02 11:30:00</td>\n",
       "      <td>2018-01-01 00:00:00</td>\n",
       "      <td>2018-04-02 05:45:00</td>\n",
       "      <td>2018-07-02 11:30:00</td>\n",
       "      <td>2018-10-01 17:15:00</td>\n",
       "      <td>2018-12-31 23:00:00</td>\n",
       "      <td>NaN</td>\n",
       "    </tr>\n",
       "    <tr>\n",
       "      <th>ind</th>\n",
       "      <td>8760.0</td>\n",
       "      <td>0.0</td>\n",
       "      <td>0.0</td>\n",
       "      <td>0.0</td>\n",
       "      <td>0.0</td>\n",
       "      <td>0.0</td>\n",
       "      <td>0.0</td>\n",
       "      <td>0.0</td>\n",
       "    </tr>\n",
       "    <tr>\n",
       "      <th>ind.1</th>\n",
       "      <td>8760.0</td>\n",
       "      <td>0.0</td>\n",
       "      <td>0.0</td>\n",
       "      <td>0.0</td>\n",
       "      <td>0.0</td>\n",
       "      <td>0.0</td>\n",
       "      <td>0.0</td>\n",
       "      <td>0.0</td>\n",
       "    </tr>\n",
       "    <tr>\n",
       "      <th>ind.2</th>\n",
       "      <td>8760.0</td>\n",
       "      <td>0.0</td>\n",
       "      <td>0.0</td>\n",
       "      <td>0.0</td>\n",
       "      <td>0.0</td>\n",
       "      <td>0.0</td>\n",
       "      <td>0.0</td>\n",
       "      <td>0.0</td>\n",
       "    </tr>\n",
       "  </tbody>\n",
       "</table>\n",
       "</div>"
      ],
      "text/plain": [
       "        count                 mean                  min                  25%  \\\n",
       "date     8760  2018-07-02 11:30:00  2018-01-01 00:00:00  2018-04-02 05:45:00   \n",
       "ind    8760.0                  0.0                  0.0                  0.0   \n",
       "ind.1  8760.0                  0.0                  0.0                  0.0   \n",
       "ind.2  8760.0                  0.0                  0.0                  0.0   \n",
       "\n",
       "                       50%                  75%                  max  std  \n",
       "date   2018-07-02 11:30:00  2018-10-01 17:15:00  2018-12-31 23:00:00  NaN  \n",
       "ind                    0.0                  0.0                  0.0  0.0  \n",
       "ind.1                  0.0                  0.0                  0.0  0.0  \n",
       "ind.2                  0.0                  0.0                  0.0  0.0  "
      ]
     },
     "execution_count": 68,
     "metadata": {},
     "output_type": "execute_result"
    }
   ],
   "source": [
    "# print some descriptive statistucs of the df\n",
    "df.describe(datetime_is_numeric=True).T "
   ]
  },
  {
   "cell_type": "code",
   "execution_count": 69,
   "metadata": {},
   "outputs": [
    {
     "data": {
      "text/plain": [
       "date     8760\n",
       "ind         1\n",
       "rain       44\n",
       "ind.1       1\n",
       "temp      304\n",
       "ind.2       1\n",
       "wetb      243\n",
       "dewpt     257\n",
       "vappr     171\n",
       "rhum       76\n",
       "msl       584\n",
       "dtype: int64"
      ]
     },
     "execution_count": 69,
     "metadata": {},
     "output_type": "execute_result"
    }
   ],
   "source": [
    "df.nunique()"
   ]
  },
  {
   "cell_type": "markdown",
   "metadata": {},
   "source": [
    "As seen above, the columns ind, ind.1 and ind.2 contain just one unique value. The value of these columns is limited and I will consider dropping them from the dataset going forward."
   ]
  },
  {
   "cell_type": "code",
   "execution_count": 70,
   "metadata": {},
   "outputs": [
    {
     "name": "stdout",
     "output_type": "stream",
     "text": [
      "Minimum value:  0.0\n",
      "Maximum value:  8.6\n",
      "count     8760.0\n",
      "unique      44.0\n",
      "top          0.0\n",
      "freq      7570.0\n",
      "Name: rain, dtype: float64\n",
      "Minimum value:  -4.5\n",
      "Maximum value:  27.5\n",
      "count     8760.0\n",
      "unique     304.0\n",
      "top          9.4\n",
      "freq        87.0\n",
      "Name: temp, dtype: float64\n",
      "Minimum value:  -4.6\n",
      "Maximum value:  20.4\n",
      "count     8760.0\n",
      "unique     243.0\n",
      "top          6.9\n",
      "freq        89.0\n",
      "Name: wetb, dtype: float64\n",
      "Minimum value:  -9.8\n",
      "Maximum value:  18.3\n",
      "count     8760.0\n",
      "unique     257.0\n",
      "top          6.3\n",
      "freq        85.0\n",
      "Name: dewpt, dtype: float64\n",
      "Minimum value:  2.9\n",
      "Maximum value:  21.0\n",
      "count     8760.0\n",
      "unique     171.0\n",
      "top          9.1\n",
      "freq       128.0\n",
      "Name: vappr, dtype: float64\n",
      "Minimum value:  24\n",
      "Maximum value:  99\n",
      "count     8760\n",
      "unique      76\n",
      "top         93\n",
      "freq       327\n",
      "Name: rhum, dtype: int64\n",
      "Minimum value:  979.5\n",
      "Maximum value:  1041.7\n",
      "count     8760.0\n",
      "unique     584.0\n",
      "top       1017.9\n",
      "freq        53.0\n",
      "Name: msl, dtype: float64\n"
     ]
    }
   ],
   "source": [
    "object_cols = df[['rain','temp','wetb','dewpt','vappr','rhum','msl']]\n",
    "for col in object_cols:\n",
    "    print(\"Minimum value: \", df[col].min())\n",
    "    print(\"Maximum value: \", df[col].max())\n",
    "    print(df[col].describe())"
   ]
  },
  {
   "cell_type": "markdown",
   "metadata": {},
   "source": [
    "Going to convert all of these columns to the dtype float64."
   ]
  },
  {
   "cell_type": "code",
   "execution_count": 71,
   "metadata": {},
   "outputs": [],
   "source": [
    "for col in object_cols:\n",
    "    df[col] = df[col].astype('float64')"
   ]
  },
  {
   "cell_type": "code",
   "execution_count": 72,
   "metadata": {},
   "outputs": [
    {
     "name": "stdout",
     "output_type": "stream",
     "text": [
      "<class 'pandas.core.frame.DataFrame'>\n",
      "Int64Index: 8760 entries, 126047 to 134806\n",
      "Data columns (total 11 columns):\n",
      " #   Column  Non-Null Count  Dtype         \n",
      "---  ------  --------------  -----         \n",
      " 0   date    8760 non-null   datetime64[ns]\n",
      " 1   ind     8760 non-null   int64         \n",
      " 2   rain    8760 non-null   float64       \n",
      " 3   ind.1   8760 non-null   int64         \n",
      " 4   temp    8760 non-null   float64       \n",
      " 5   ind.2   8760 non-null   int64         \n",
      " 6   wetb    8760 non-null   float64       \n",
      " 7   dewpt   8760 non-null   float64       \n",
      " 8   vappr   8760 non-null   float64       \n",
      " 9   rhum    8760 non-null   float64       \n",
      " 10  msl     8760 non-null   float64       \n",
      "dtypes: datetime64[ns](1), float64(7), int64(3)\n",
      "memory usage: 821.2 KB\n"
     ]
    }
   ],
   "source": [
    "df.info()"
   ]
  },
  {
   "cell_type": "markdown",
   "metadata": {},
   "source": [
    "## Checking the logical integrity of the data\n",
    "### Rain\n",
    "* Should have no negative values"
   ]
  },
  {
   "cell_type": "code",
   "execution_count": 73,
   "metadata": {},
   "outputs": [
    {
     "data": {
      "text/plain": [
       "count    8760.000000\n",
       "mean        0.078208\n",
       "std         0.342674\n",
       "min         0.000000\n",
       "25%         0.000000\n",
       "50%         0.000000\n",
       "75%         0.000000\n",
       "max         8.600000\n",
       "Name: rain, dtype: float64"
      ]
     },
     "execution_count": 73,
     "metadata": {},
     "output_type": "execute_result"
    }
   ],
   "source": [
    "df['rain'].describe()"
   ]
  },
  {
   "cell_type": "code",
   "execution_count": 74,
   "metadata": {},
   "outputs": [
    {
     "data": {
      "text/plain": [
       "date     8760\n",
       "ind         1\n",
       "rain       44\n",
       "ind.1       1\n",
       "temp      304\n",
       "ind.2       1\n",
       "wetb      243\n",
       "dewpt     257\n",
       "vappr     171\n",
       "rhum       76\n",
       "msl       584\n",
       "dtype: int64"
      ]
     },
     "execution_count": 74,
     "metadata": {},
     "output_type": "execute_result"
    }
   ],
   "source": [
    "df.nunique()"
   ]
  },
  {
   "cell_type": "code",
   "execution_count": 77,
   "metadata": {},
   "outputs": [],
   "source": [
    "rain = df['rain']"
   ]
  },
  {
   "cell_type": "code",
   "execution_count": 78,
   "metadata": {},
   "outputs": [
    {
     "data": {
      "text/plain": [
       "126047    0.0\n",
       "126048    0.1\n",
       "126049    0.0\n",
       "126050    0.0\n",
       "126051    0.0\n",
       "         ... \n",
       "134802    0.0\n",
       "134803    0.0\n",
       "134804    0.0\n",
       "134805    0.0\n",
       "134806    0.0\n",
       "Name: rain, Length: 8760, dtype: float64"
      ]
     },
     "execution_count": 78,
     "metadata": {},
     "output_type": "execute_result"
    }
   ],
   "source": [
    "rain"
   ]
  },
  {
   "cell_type": "code",
   "execution_count": null,
   "metadata": {},
   "outputs": [],
   "source": []
  }
 ],
 "metadata": {
  "interpreter": {
   "hash": "7699efb4af24be428a0b5648dfa7aba129b905e3165e555843cf88f6106e2e55"
  },
  "kernelspec": {
   "display_name": "Python 3.8.13 ('rp22')",
   "language": "python",
   "name": "python3"
  },
  "language_info": {
   "codemirror_mode": {
    "name": "ipython",
    "version": 3
   },
   "file_extension": ".py",
   "mimetype": "text/x-python",
   "name": "python",
   "nbconvert_exporter": "python",
   "pygments_lexer": "ipython3",
   "version": "3.8.13"
  },
  "orig_nbformat": 4
 },
 "nbformat": 4,
 "nbformat_minor": 2
}
